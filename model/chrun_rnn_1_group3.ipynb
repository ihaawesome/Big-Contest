{
 "cells": [
  {
   "cell_type": "code",
   "execution_count": 15,
   "metadata": {},
   "outputs": [],
   "source": [
    "import pandas as pd\n",
    "import numpy as np\n",
    "import keras.backend as K\n",
    "import matplotlib.pyplot as plt\n",
    "import os"
   ]
  },
  {
   "cell_type": "code",
   "execution_count": 2,
   "metadata": {},
   "outputs": [],
   "source": [
    "# os.chdir('C:/Users/HK/Desktop/GitHub/Big-Contest')"
   ]
  },
  {
   "cell_type": "markdown",
   "metadata": {},
   "source": [
    "### 데이터 준비"
   ]
  },
  {
   "cell_type": "code",
   "execution_count": 3,
   "metadata": {},
   "outputs": [],
   "source": [
    "data = pd.read_csv('preprocess/train_sequence.csv')\n",
    "labels = pd.read_csv('model/train_label_surv.csv')"
   ]
  },
  {
   "cell_type": "code",
   "execution_count": 4,
   "metadata": {},
   "outputs": [
    {
     "name": "stdout",
     "output_type": "stream",
     "text": [
      "(1120000, 23)\n"
     ]
    },
    {
     "data": {
      "text/html": [
       "<div>\n",
       "<style scoped>\n",
       "    .dataframe tbody tr th:only-of-type {\n",
       "        vertical-align: middle;\n",
       "    }\n",
       "\n",
       "    .dataframe tbody tr th {\n",
       "        vertical-align: top;\n",
       "    }\n",
       "\n",
       "    .dataframe thead th {\n",
       "        text-align: right;\n",
       "    }\n",
       "</style>\n",
       "<table border=\"1\" class=\"dataframe\">\n",
       "  <thead>\n",
       "    <tr style=\"text-align: right;\">\n",
       "      <th></th>\n",
       "      <th>day</th>\n",
       "      <th>acc_id</th>\n",
       "      <th>week</th>\n",
       "      <th>risk_ratio</th>\n",
       "      <th>char_cnt_act</th>\n",
       "      <th>playtime</th>\n",
       "      <th>total_exp</th>\n",
       "      <th>party_exp_per</th>\n",
       "      <th>fishing</th>\n",
       "      <th>private_shop</th>\n",
       "      <th>...</th>\n",
       "      <th>amount_spent</th>\n",
       "      <th>purchase_pr</th>\n",
       "      <th>purchase_ex</th>\n",
       "      <th>sum_level</th>\n",
       "      <th>combat_cnt</th>\n",
       "      <th>num_opponent</th>\n",
       "      <th>play_char_cnt_pld</th>\n",
       "      <th>pledge_combat_cnt_pld</th>\n",
       "      <th>combat_play_time_pld</th>\n",
       "      <th>first_week</th>\n",
       "    </tr>\n",
       "  </thead>\n",
       "  <tbody>\n",
       "    <tr>\n",
       "      <th>0</th>\n",
       "      <td>1</td>\n",
       "      <td>2</td>\n",
       "      <td>1</td>\n",
       "      <td>0.000000</td>\n",
       "      <td>0.459885</td>\n",
       "      <td>1.251604</td>\n",
       "      <td>0.0</td>\n",
       "      <td>0.0</td>\n",
       "      <td>0.0</td>\n",
       "      <td>2.149331</td>\n",
       "      <td>...</td>\n",
       "      <td>0.0</td>\n",
       "      <td>0.0</td>\n",
       "      <td>0.0</td>\n",
       "      <td>0.0</td>\n",
       "      <td>0.0</td>\n",
       "      <td>0.0</td>\n",
       "      <td>0.0</td>\n",
       "      <td>0.0</td>\n",
       "      <td>0.0</td>\n",
       "      <td>1</td>\n",
       "    </tr>\n",
       "    <tr>\n",
       "      <th>1</th>\n",
       "      <td>2</td>\n",
       "      <td>2</td>\n",
       "      <td>1</td>\n",
       "      <td>1.037037</td>\n",
       "      <td>0.459885</td>\n",
       "      <td>1.557190</td>\n",
       "      <td>0.0</td>\n",
       "      <td>0.0</td>\n",
       "      <td>0.0</td>\n",
       "      <td>2.748687</td>\n",
       "      <td>...</td>\n",
       "      <td>0.0</td>\n",
       "      <td>0.0</td>\n",
       "      <td>0.0</td>\n",
       "      <td>0.0</td>\n",
       "      <td>0.0</td>\n",
       "      <td>0.0</td>\n",
       "      <td>0.0</td>\n",
       "      <td>0.0</td>\n",
       "      <td>0.0</td>\n",
       "      <td>1</td>\n",
       "    </tr>\n",
       "    <tr>\n",
       "      <th>2</th>\n",
       "      <td>3</td>\n",
       "      <td>2</td>\n",
       "      <td>1</td>\n",
       "      <td>1.037037</td>\n",
       "      <td>0.459885</td>\n",
       "      <td>1.560441</td>\n",
       "      <td>0.0</td>\n",
       "      <td>0.0</td>\n",
       "      <td>0.0</td>\n",
       "      <td>2.778651</td>\n",
       "      <td>...</td>\n",
       "      <td>0.0</td>\n",
       "      <td>0.0</td>\n",
       "      <td>0.0</td>\n",
       "      <td>0.0</td>\n",
       "      <td>0.0</td>\n",
       "      <td>0.0</td>\n",
       "      <td>0.0</td>\n",
       "      <td>0.0</td>\n",
       "      <td>0.0</td>\n",
       "      <td>1</td>\n",
       "    </tr>\n",
       "    <tr>\n",
       "      <th>3</th>\n",
       "      <td>4</td>\n",
       "      <td>2</td>\n",
       "      <td>1</td>\n",
       "      <td>1.037037</td>\n",
       "      <td>0.459885</td>\n",
       "      <td>1.560441</td>\n",
       "      <td>0.0</td>\n",
       "      <td>0.0</td>\n",
       "      <td>0.0</td>\n",
       "      <td>2.733738</td>\n",
       "      <td>...</td>\n",
       "      <td>0.0</td>\n",
       "      <td>0.0</td>\n",
       "      <td>0.0</td>\n",
       "      <td>0.0</td>\n",
       "      <td>0.0</td>\n",
       "      <td>0.0</td>\n",
       "      <td>0.0</td>\n",
       "      <td>0.0</td>\n",
       "      <td>0.0</td>\n",
       "      <td>1</td>\n",
       "    </tr>\n",
       "    <tr>\n",
       "      <th>4</th>\n",
       "      <td>5</td>\n",
       "      <td>2</td>\n",
       "      <td>1</td>\n",
       "      <td>1.037037</td>\n",
       "      <td>0.459885</td>\n",
       "      <td>1.560441</td>\n",
       "      <td>0.0</td>\n",
       "      <td>0.0</td>\n",
       "      <td>0.0</td>\n",
       "      <td>2.736973</td>\n",
       "      <td>...</td>\n",
       "      <td>0.0</td>\n",
       "      <td>0.0</td>\n",
       "      <td>0.0</td>\n",
       "      <td>0.0</td>\n",
       "      <td>0.0</td>\n",
       "      <td>0.0</td>\n",
       "      <td>0.0</td>\n",
       "      <td>0.0</td>\n",
       "      <td>0.0</td>\n",
       "      <td>1</td>\n",
       "    </tr>\n",
       "  </tbody>\n",
       "</table>\n",
       "<p>5 rows × 23 columns</p>\n",
       "</div>"
      ],
      "text/plain": [
       "   day  acc_id  week  risk_ratio  char_cnt_act  playtime  total_exp  \\\n",
       "0    1       2     1    0.000000      0.459885  1.251604        0.0   \n",
       "1    2       2     1    1.037037      0.459885  1.557190        0.0   \n",
       "2    3       2     1    1.037037      0.459885  1.560441        0.0   \n",
       "3    4       2     1    1.037037      0.459885  1.560441        0.0   \n",
       "4    5       2     1    1.037037      0.459885  1.560441        0.0   \n",
       "\n",
       "   party_exp_per  fishing  private_shop     ...      amount_spent  \\\n",
       "0            0.0      0.0      2.149331     ...               0.0   \n",
       "1            0.0      0.0      2.748687     ...               0.0   \n",
       "2            0.0      0.0      2.778651     ...               0.0   \n",
       "3            0.0      0.0      2.733738     ...               0.0   \n",
       "4            0.0      0.0      2.736973     ...               0.0   \n",
       "\n",
       "   purchase_pr  purchase_ex  sum_level  combat_cnt  num_opponent  \\\n",
       "0          0.0          0.0        0.0         0.0           0.0   \n",
       "1          0.0          0.0        0.0         0.0           0.0   \n",
       "2          0.0          0.0        0.0         0.0           0.0   \n",
       "3          0.0          0.0        0.0         0.0           0.0   \n",
       "4          0.0          0.0        0.0         0.0           0.0   \n",
       "\n",
       "   play_char_cnt_pld  pledge_combat_cnt_pld  combat_play_time_pld  first_week  \n",
       "0                0.0                    0.0                   0.0           1  \n",
       "1                0.0                    0.0                   0.0           1  \n",
       "2                0.0                    0.0                   0.0           1  \n",
       "3                0.0                    0.0                   0.0           1  \n",
       "4                0.0                    0.0                   0.0           1  \n",
       "\n",
       "[5 rows x 23 columns]"
      ]
     },
     "execution_count": 4,
     "metadata": {},
     "output_type": "execute_result"
    }
   ],
   "source": [
    "print(data.shape)\n",
    "data.head()"
   ]
  },
  {
   "cell_type": "code",
   "execution_count": 5,
   "metadata": {
    "scrolled": true
   },
   "outputs": [
    {
     "data": {
      "text/html": [
       "<div>\n",
       "<style scoped>\n",
       "    .dataframe tbody tr th:only-of-type {\n",
       "        vertical-align: middle;\n",
       "    }\n",
       "\n",
       "    .dataframe tbody tr th {\n",
       "        vertical-align: top;\n",
       "    }\n",
       "\n",
       "    .dataframe thead th {\n",
       "        text-align: right;\n",
       "    }\n",
       "</style>\n",
       "<table border=\"1\" class=\"dataframe\">\n",
       "  <thead>\n",
       "    <tr style=\"text-align: right;\">\n",
       "      <th></th>\n",
       "      <th>acc_id</th>\n",
       "      <th>first_week</th>\n",
       "      <th>survival_time</th>\n",
       "      <th>churn</th>\n",
       "      <th>survival_prob</th>\n",
       "      <th>amount_spent</th>\n",
       "      <th>payment</th>\n",
       "    </tr>\n",
       "  </thead>\n",
       "  <tbody>\n",
       "    <tr>\n",
       "      <th>0</th>\n",
       "      <td>2.0</td>\n",
       "      <td>1</td>\n",
       "      <td>64</td>\n",
       "      <td>0</td>\n",
       "      <td>0.549900</td>\n",
       "      <td>0.000000</td>\n",
       "      <td>0</td>\n",
       "    </tr>\n",
       "    <tr>\n",
       "      <th>1</th>\n",
       "      <td>5.0</td>\n",
       "      <td>2</td>\n",
       "      <td>60</td>\n",
       "      <td>1</td>\n",
       "      <td>0.558375</td>\n",
       "      <td>0.000000</td>\n",
       "      <td>0</td>\n",
       "    </tr>\n",
       "    <tr>\n",
       "      <th>2</th>\n",
       "      <td>8.0</td>\n",
       "      <td>1</td>\n",
       "      <td>64</td>\n",
       "      <td>0</td>\n",
       "      <td>0.549900</td>\n",
       "      <td>0.020310</td>\n",
       "      <td>1</td>\n",
       "    </tr>\n",
       "    <tr>\n",
       "      <th>3</th>\n",
       "      <td>17.0</td>\n",
       "      <td>1</td>\n",
       "      <td>64</td>\n",
       "      <td>0</td>\n",
       "      <td>0.549900</td>\n",
       "      <td>0.070642</td>\n",
       "      <td>1</td>\n",
       "    </tr>\n",
       "    <tr>\n",
       "      <th>4</th>\n",
       "      <td>20.0</td>\n",
       "      <td>1</td>\n",
       "      <td>64</td>\n",
       "      <td>0</td>\n",
       "      <td>0.549900</td>\n",
       "      <td>0.052137</td>\n",
       "      <td>1</td>\n",
       "    </tr>\n",
       "  </tbody>\n",
       "</table>\n",
       "</div>"
      ],
      "text/plain": [
       "   acc_id  first_week  survival_time  churn  survival_prob  amount_spent  \\\n",
       "0     2.0           1             64      0       0.549900      0.000000   \n",
       "1     5.0           2             60      1       0.558375      0.000000   \n",
       "2     8.0           1             64      0       0.549900      0.020310   \n",
       "3    17.0           1             64      0       0.549900      0.070642   \n",
       "4    20.0           1             64      0       0.549900      0.052137   \n",
       "\n",
       "   payment  \n",
       "0        0  \n",
       "1        0  \n",
       "2        1  \n",
       "3        1  \n",
       "4        1  "
      ]
     },
     "execution_count": 5,
     "metadata": {},
     "output_type": "execute_result"
    }
   ],
   "source": [
    "labels.head()"
   ]
  },
  {
   "cell_type": "code",
   "execution_count": 6,
   "metadata": {},
   "outputs": [],
   "source": [
    "def min_max_scale(xdata):\n",
    "    minim = np.min(xdata, axis = 0)\n",
    "    maxim = np.max(xdata, axis = 0)\n",
    "    xdata = (xdata - minim) / (maxim - minim)\n",
    "    xdata = np.array(xdata)\n",
    "    return xdata"
   ]
  },
  {
   "cell_type": "code",
   "execution_count": 7,
   "metadata": {},
   "outputs": [],
   "source": [
    "xdata = min_max_scale(data.query('first_week == 4 and day > 21').iloc[:, 3:22])\n",
    "ydata = np.array(labels.query('first_week == 4').iloc[:, 3])"
   ]
  },
  {
   "cell_type": "code",
   "execution_count": 8,
   "metadata": {},
   "outputs": [
    {
     "name": "stdout",
     "output_type": "stream",
     "text": [
      "(12264, 19)\n"
     ]
    }
   ],
   "source": [
    "print(xdata.shape)"
   ]
  },
  {
   "cell_type": "code",
   "execution_count": 9,
   "metadata": {},
   "outputs": [],
   "source": [
    "timesteps = 7\n",
    "nobs = len(xdata) // timesteps\n",
    "input_features = 19"
   ]
  },
  {
   "cell_type": "code",
   "execution_count": 10,
   "metadata": {},
   "outputs": [
    {
     "name": "stdout",
     "output_type": "stream",
     "text": [
      "(1752, 7, 19)\n",
      "(1752,)\n"
     ]
    }
   ],
   "source": [
    "xdata = xdata.reshape((nobs, timesteps, input_features))\n",
    "print(xdata.shape)\n",
    "print(ydata.shape)"
   ]
  },
  {
   "cell_type": "markdown",
   "metadata": {},
   "source": [
    "### 모델링"
   ]
  },
  {
   "cell_type": "code",
   "execution_count": 11,
   "metadata": {},
   "outputs": [],
   "source": [
    "from sklearn.model_selection import train_test_split"
   ]
  },
  {
   "cell_type": "code",
   "execution_count": 12,
   "metadata": {},
   "outputs": [],
   "source": [
    "xtrain, xtest, ytrain, ytest = train_test_split(xdata, ydata, test_size = 0.2, random_state = 100)\n",
    "xtrain, xval, ytrain, yval = train_test_split(xtrain, ytrain, test_size = 3/8, random_state = 200)"
   ]
  },
  {
   "cell_type": "code",
   "execution_count": 13,
   "metadata": {},
   "outputs": [
    {
     "name": "stdout",
     "output_type": "stream",
     "text": [
      "(875, 7, 19)\n",
      "(526, 7, 19)\n",
      "(351, 7, 19)\n"
     ]
    }
   ],
   "source": [
    "print(xtrain.shape)\n",
    "print(xval.shape)\n",
    "print(xtest.shape)"
   ]
  },
  {
   "cell_type": "code",
   "execution_count": 14,
   "metadata": {},
   "outputs": [],
   "source": [
    "from keras.layers import Input, GRU, Dense\n",
    "from keras.models import Sequential, Model, load_model\n",
    "from keras import optimizers\n",
    "from keras import initializers"
   ]
  },
  {
   "cell_type": "code",
   "execution_count": 29,
   "metadata": {},
   "outputs": [],
   "source": [
    "def define_model_1(hidden_features):\n",
    "    K.clear_session()\n",
    "    inputs = Input(shape = (timesteps, input_features))\n",
    "    \n",
    "    h = GRU(units = hidden_features)(inputs)\n",
    "    \n",
    "    outputs = Dense(units = 1, activation = 'sigmoid')(h)\n",
    "    model = Model(inputs, outputs)\n",
    "    return model"
   ]
  },
  {
   "cell_type": "code",
   "execution_count": 30,
   "metadata": {
    "scrolled": true
   },
   "outputs": [
    {
     "name": "stdout",
     "output_type": "stream",
     "text": [
      "_________________________________________________________________\n",
      "Layer (type)                 Output Shape              Param #   \n",
      "=================================================================\n",
      "input_1 (InputLayer)         (None, 7, 19)             0         \n",
      "_________________________________________________________________\n",
      "gru_1 (GRU)                  (None, 64)                16128     \n",
      "_________________________________________________________________\n",
      "dense_1 (Dense)              (None, 1)                 65        \n",
      "=================================================================\n",
      "Total params: 16,193\n",
      "Trainable params: 16,193\n",
      "Non-trainable params: 0\n",
      "_________________________________________________________________\n"
     ]
    }
   ],
   "source": [
    "model1 = define_model_1(hidden_features = 64)\n",
    "model1.summary()"
   ]
  },
  {
   "cell_type": "code",
   "execution_count": 31,
   "metadata": {},
   "outputs": [],
   "source": [
    "model1.compile(loss = 'binary_crossentropy',\n",
    "               optimizer = optimizers.adam(lr = 0.001),\n",
    "               metrics = ['acc'])"
   ]
  },
  {
   "cell_type": "code",
   "execution_count": 33,
   "metadata": {},
   "outputs": [],
   "source": [
    "from keras.callbacks import ModelCheckpoint, EarlyStopping"
   ]
  },
  {
   "cell_type": "code",
   "execution_count": 34,
   "metadata": {},
   "outputs": [
    {
     "name": "stdout",
     "output_type": "stream",
     "text": [
      "Train on 875 samples, validate on 526 samples\n",
      "Epoch 1/1000\n",
      " - 1s - loss: 0.6666 - acc: 0.8057 - val_loss: 0.6328 - val_acc: 0.8783\n",
      "Epoch 2/1000\n",
      " - 0s - loss: 0.6071 - acc: 0.8754 - val_loss: 0.5744 - val_acc: 0.8745\n",
      "Epoch 3/1000\n",
      " - 0s - loss: 0.5482 - acc: 0.8743 - val_loss: 0.5104 - val_acc: 0.8745\n",
      "Epoch 4/1000\n",
      " - 0s - loss: 0.4828 - acc: 0.8743 - val_loss: 0.4432 - val_acc: 0.8745\n",
      "Epoch 5/1000\n",
      " - 0s - loss: 0.4228 - acc: 0.8743 - val_loss: 0.3997 - val_acc: 0.8745\n",
      "Epoch 6/1000\n",
      " - 0s - loss: 0.3950 - acc: 0.8743 - val_loss: 0.3834 - val_acc: 0.8745\n",
      "Epoch 7/1000\n",
      " - 0s - loss: 0.3746 - acc: 0.8777 - val_loss: 0.3596 - val_acc: 0.8859\n",
      "Epoch 8/1000\n",
      " - 0s - loss: 0.3545 - acc: 0.8823 - val_loss: 0.3462 - val_acc: 0.8859\n",
      "Epoch 9/1000\n",
      " - 0s - loss: 0.3429 - acc: 0.8834 - val_loss: 0.3354 - val_acc: 0.8859\n",
      "Epoch 10/1000\n",
      " - 0s - loss: 0.3333 - acc: 0.8857 - val_loss: 0.3290 - val_acc: 0.8840\n",
      "Epoch 11/1000\n",
      " - 0s - loss: 0.3280 - acc: 0.8869 - val_loss: 0.3253 - val_acc: 0.8745\n",
      "Epoch 12/1000\n",
      " - 0s - loss: 0.3248 - acc: 0.8777 - val_loss: 0.3238 - val_acc: 0.8669\n",
      "Epoch 13/1000\n",
      " - 0s - loss: 0.3218 - acc: 0.8777 - val_loss: 0.3227 - val_acc: 0.8650\n",
      "Epoch 14/1000\n",
      " - 0s - loss: 0.3201 - acc: 0.8789 - val_loss: 0.3222 - val_acc: 0.8650\n",
      "Epoch 15/1000\n",
      " - 0s - loss: 0.3171 - acc: 0.8789 - val_loss: 0.3210 - val_acc: 0.8650\n",
      "Epoch 16/1000\n",
      " - 0s - loss: 0.3167 - acc: 0.8789 - val_loss: 0.3201 - val_acc: 0.8650\n",
      "Epoch 17/1000\n",
      " - 0s - loss: 0.3146 - acc: 0.8811 - val_loss: 0.3195 - val_acc: 0.8650\n",
      "Epoch 18/1000\n",
      " - 0s - loss: 0.3126 - acc: 0.8811 - val_loss: 0.3187 - val_acc: 0.8669\n",
      "Epoch 19/1000\n",
      " - 0s - loss: 0.3126 - acc: 0.8834 - val_loss: 0.3187 - val_acc: 0.8669\n",
      "Epoch 20/1000\n",
      " - 0s - loss: 0.3091 - acc: 0.8834 - val_loss: 0.3175 - val_acc: 0.8669\n",
      "Epoch 21/1000\n",
      " - 0s - loss: 0.3086 - acc: 0.8857 - val_loss: 0.3170 - val_acc: 0.8688\n",
      "Epoch 22/1000\n",
      " - 0s - loss: 0.3075 - acc: 0.8846 - val_loss: 0.3177 - val_acc: 0.8688\n",
      "Epoch 23/1000\n",
      " - 0s - loss: 0.3075 - acc: 0.8869 - val_loss: 0.3160 - val_acc: 0.8707\n",
      "Epoch 24/1000\n",
      " - 0s - loss: 0.3061 - acc: 0.8880 - val_loss: 0.3159 - val_acc: 0.8707\n",
      "Epoch 25/1000\n",
      " - 0s - loss: 0.3042 - acc: 0.8869 - val_loss: 0.3153 - val_acc: 0.8688\n",
      "Epoch 26/1000\n",
      " - 0s - loss: 0.3015 - acc: 0.8880 - val_loss: 0.3155 - val_acc: 0.8707\n",
      "Epoch 27/1000\n",
      " - 0s - loss: 0.3012 - acc: 0.8880 - val_loss: 0.3144 - val_acc: 0.8707\n",
      "Epoch 28/1000\n",
      " - 0s - loss: 0.2991 - acc: 0.8903 - val_loss: 0.3139 - val_acc: 0.8688\n",
      "Epoch 29/1000\n",
      " - 0s - loss: 0.2980 - acc: 0.8914 - val_loss: 0.3140 - val_acc: 0.8745\n",
      "Epoch 30/1000\n",
      " - 0s - loss: 0.2972 - acc: 0.8903 - val_loss: 0.3133 - val_acc: 0.8745\n",
      "Epoch 31/1000\n",
      " - 0s - loss: 0.2954 - acc: 0.8926 - val_loss: 0.3134 - val_acc: 0.8745\n",
      "Epoch 32/1000\n",
      " - 0s - loss: 0.2943 - acc: 0.8926 - val_loss: 0.3124 - val_acc: 0.8745\n",
      "Epoch 33/1000\n",
      " - 0s - loss: 0.2946 - acc: 0.8949 - val_loss: 0.3121 - val_acc: 0.8783\n",
      "Epoch 34/1000\n",
      " - 0s - loss: 0.2920 - acc: 0.8949 - val_loss: 0.3119 - val_acc: 0.8764\n",
      "Epoch 35/1000\n",
      " - 0s - loss: 0.2907 - acc: 0.8937 - val_loss: 0.3125 - val_acc: 0.8783\n",
      "Epoch 36/1000\n",
      " - 0s - loss: 0.2896 - acc: 0.8949 - val_loss: 0.3114 - val_acc: 0.8821\n",
      "Epoch 37/1000\n",
      " - 0s - loss: 0.2891 - acc: 0.8960 - val_loss: 0.3121 - val_acc: 0.8840\n",
      "Epoch 38/1000\n",
      " - 0s - loss: 0.2882 - acc: 0.8949 - val_loss: 0.3109 - val_acc: 0.8802\n",
      "Epoch 39/1000\n",
      " - 0s - loss: 0.2866 - acc: 0.8949 - val_loss: 0.3131 - val_acc: 0.8840\n",
      "Epoch 40/1000\n",
      " - 0s - loss: 0.2867 - acc: 0.8937 - val_loss: 0.3113 - val_acc: 0.8802\n",
      "Epoch 41/1000\n",
      " - 0s - loss: 0.2854 - acc: 0.8994 - val_loss: 0.3122 - val_acc: 0.8802\n",
      "Epoch 42/1000\n",
      " - 0s - loss: 0.2840 - acc: 0.8983 - val_loss: 0.3121 - val_acc: 0.8802\n",
      "Epoch 43/1000\n",
      " - 0s - loss: 0.2833 - acc: 0.8983 - val_loss: 0.3118 - val_acc: 0.8821\n",
      "Epoch 44/1000\n",
      " - 0s - loss: 0.2839 - acc: 0.8994 - val_loss: 0.3109 - val_acc: 0.8783\n",
      "Epoch 45/1000\n",
      " - 0s - loss: 0.2813 - acc: 0.8994 - val_loss: 0.3143 - val_acc: 0.8802\n",
      "Epoch 46/1000\n",
      " - 0s - loss: 0.2823 - acc: 0.8971 - val_loss: 0.3119 - val_acc: 0.8783\n",
      "Epoch 47/1000\n",
      " - 0s - loss: 0.2806 - acc: 0.8994 - val_loss: 0.3114 - val_acc: 0.8783\n",
      "Epoch 48/1000\n",
      " - 0s - loss: 0.2823 - acc: 0.8983 - val_loss: 0.3123 - val_acc: 0.8783\n",
      "Epoch 49/1000\n",
      " - 0s - loss: 0.2821 - acc: 0.8983 - val_loss: 0.3138 - val_acc: 0.8802\n",
      "Epoch 50/1000\n",
      " - 0s - loss: 0.2790 - acc: 0.8994 - val_loss: 0.3115 - val_acc: 0.8840\n",
      "Epoch 51/1000\n",
      " - 0s - loss: 0.2823 - acc: 0.9006 - val_loss: 0.3153 - val_acc: 0.8821\n",
      "Epoch 52/1000\n",
      " - 0s - loss: 0.2787 - acc: 0.8983 - val_loss: 0.3127 - val_acc: 0.8821\n",
      "Epoch 53/1000\n",
      " - 0s - loss: 0.2791 - acc: 0.8983 - val_loss: 0.3129 - val_acc: 0.8840\n",
      "Epoch 54/1000\n",
      " - 0s - loss: 0.2808 - acc: 0.8971 - val_loss: 0.3165 - val_acc: 0.8821\n",
      "Epoch 55/1000\n",
      " - 0s - loss: 0.2798 - acc: 0.9017 - val_loss: 0.3141 - val_acc: 0.8840\n",
      "Epoch 56/1000\n",
      " - 0s - loss: 0.2808 - acc: 0.8960 - val_loss: 0.3180 - val_acc: 0.8821\n",
      "Epoch 57/1000\n",
      " - 0s - loss: 0.2759 - acc: 0.9006 - val_loss: 0.3126 - val_acc: 0.8840\n",
      "Epoch 58/1000\n",
      " - 0s - loss: 0.2771 - acc: 0.9017 - val_loss: 0.3130 - val_acc: 0.8859\n",
      "Epoch 59/1000\n",
      " - 0s - loss: 0.2780 - acc: 0.9006 - val_loss: 0.3171 - val_acc: 0.8840\n",
      "Epoch 60/1000\n",
      " - 0s - loss: 0.2769 - acc: 0.8971 - val_loss: 0.3140 - val_acc: 0.8859\n",
      "Epoch 61/1000\n",
      " - 0s - loss: 0.2764 - acc: 0.9006 - val_loss: 0.3176 - val_acc: 0.8821\n",
      "Epoch 62/1000\n",
      " - 0s - loss: 0.2752 - acc: 0.9006 - val_loss: 0.3143 - val_acc: 0.8859\n",
      "Epoch 63/1000\n",
      " - 0s - loss: 0.2764 - acc: 0.9029 - val_loss: 0.3143 - val_acc: 0.8897\n",
      "Epoch 64/1000\n",
      " - 0s - loss: 0.2734 - acc: 0.9017 - val_loss: 0.3184 - val_acc: 0.8821\n",
      "Epoch 65/1000\n",
      " - 0s - loss: 0.2733 - acc: 0.9006 - val_loss: 0.3168 - val_acc: 0.8878\n",
      "Epoch 66/1000\n",
      " - 0s - loss: 0.2750 - acc: 0.9051 - val_loss: 0.3160 - val_acc: 0.8878\n",
      "Epoch 67/1000\n",
      " - 0s - loss: 0.2735 - acc: 0.9051 - val_loss: 0.3201 - val_acc: 0.8821\n",
      "Epoch 68/1000\n",
      " - 0s - loss: 0.2719 - acc: 0.9040 - val_loss: 0.3155 - val_acc: 0.8878\n",
      "Epoch 69/1000\n",
      " - 0s - loss: 0.2735 - acc: 0.9040 - val_loss: 0.3169 - val_acc: 0.8897\n",
      "Epoch 70/1000\n",
      " - 0s - loss: 0.2713 - acc: 0.9029 - val_loss: 0.3174 - val_acc: 0.8859\n",
      "Epoch 71/1000\n",
      " - 0s - loss: 0.2705 - acc: 0.9051 - val_loss: 0.3194 - val_acc: 0.8821\n",
      "Epoch 72/1000\n",
      " - 0s - loss: 0.2714 - acc: 0.9051 - val_loss: 0.3185 - val_acc: 0.8859\n",
      "Epoch 73/1000\n",
      " - 0s - loss: 0.2704 - acc: 0.9040 - val_loss: 0.3178 - val_acc: 0.8878\n",
      "Epoch 74/1000\n",
      " - 0s - loss: 0.2706 - acc: 0.9086 - val_loss: 0.3189 - val_acc: 0.8878\n",
      "Epoch 75/1000\n",
      " - 0s - loss: 0.2694 - acc: 0.9063 - val_loss: 0.3219 - val_acc: 0.8840\n",
      "Epoch 76/1000\n",
      " - 0s - loss: 0.2691 - acc: 0.9040 - val_loss: 0.3188 - val_acc: 0.8859\n",
      "Epoch 77/1000\n",
      " - 0s - loss: 0.2705 - acc: 0.9109 - val_loss: 0.3189 - val_acc: 0.8878\n",
      "Epoch 78/1000\n",
      " - 0s - loss: 0.2722 - acc: 0.9040 - val_loss: 0.3200 - val_acc: 0.8840\n",
      "Epoch 79/1000\n",
      " - 0s - loss: 0.2676 - acc: 0.9074 - val_loss: 0.3181 - val_acc: 0.8878\n",
      "Epoch 80/1000\n",
      " - 0s - loss: 0.2682 - acc: 0.9086 - val_loss: 0.3203 - val_acc: 0.8840\n",
      "Epoch 81/1000\n",
      " - 0s - loss: 0.2680 - acc: 0.9051 - val_loss: 0.3209 - val_acc: 0.8859\n",
      "Epoch 82/1000\n",
      " - 0s - loss: 0.2673 - acc: 0.9086 - val_loss: 0.3215 - val_acc: 0.8878\n",
      "Epoch 83/1000\n",
      " - 0s - loss: 0.2671 - acc: 0.9086 - val_loss: 0.3244 - val_acc: 0.8840\n",
      "Epoch 84/1000\n",
      " - 0s - loss: 0.2668 - acc: 0.9063 - val_loss: 0.3234 - val_acc: 0.8840\n",
      "Epoch 85/1000\n",
      " - 0s - loss: 0.2656 - acc: 0.9086 - val_loss: 0.3224 - val_acc: 0.8878\n",
      "Epoch 86/1000\n",
      " - 0s - loss: 0.2661 - acc: 0.9086 - val_loss: 0.3224 - val_acc: 0.8859\n",
      "Epoch 87/1000\n",
      " - 0s - loss: 0.2651 - acc: 0.9109 - val_loss: 0.3253 - val_acc: 0.8840\n",
      "Epoch 88/1000\n",
      " - 0s - loss: 0.2664 - acc: 0.9063 - val_loss: 0.3233 - val_acc: 0.8878\n",
      "Epoch 89/1000\n",
      " - 0s - loss: 0.2654 - acc: 0.9109 - val_loss: 0.3246 - val_acc: 0.8878\n",
      "Epoch 90/1000\n",
      " - 0s - loss: 0.2643 - acc: 0.9074 - val_loss: 0.3267 - val_acc: 0.8840\n",
      "Epoch 91/1000\n",
      " - 0s - loss: 0.2656 - acc: 0.9040 - val_loss: 0.3250 - val_acc: 0.8878\n",
      "Epoch 92/1000\n",
      " - 0s - loss: 0.2638 - acc: 0.9074 - val_loss: 0.3262 - val_acc: 0.8878\n",
      "Epoch 93/1000\n",
      " - 0s - loss: 0.2641 - acc: 0.9074 - val_loss: 0.3243 - val_acc: 0.8878\n",
      "Epoch 94/1000\n",
      " - 0s - loss: 0.2635 - acc: 0.9074 - val_loss: 0.3248 - val_acc: 0.8878\n"
     ]
    }
   ],
   "source": [
    "checkpoint = ModelCheckpoint('model/churn_rnn_group3_1.hdf5', save_best_only = True)\n",
    "earlystopping = EarlyStopping(patience = 50)\n",
    "\n",
    "history1 = model1.fit(xtrain, ytrain, validation_data = (xval, yval),\n",
    "                      epochs = 1000, batch_size = 128, \n",
    "                      callbacks = [checkpoint, earlystopping], verbose = 2)"
   ]
  },
  {
   "cell_type": "code",
   "execution_count": 35,
   "metadata": {},
   "outputs": [],
   "source": [
    "def history_plot(history):\n",
    "    loss = history.history['loss']\n",
    "    val_loss = history.history['val_loss']\n",
    "    acc = history.history['acc']\n",
    "    val_acc = history.history['val_acc']\n",
    "    \n",
    "    epochs = range(1, len(loss) + 1)\n",
    "    \n",
    "    minim = np.argmin(val_loss)\n",
    "    plt.plot(epochs, loss, 'k', label = 'Training')\n",
    "    plt.plot(epochs, val_loss, 'r', label = 'Valdiation')\n",
    "    plt.axvline(minim, color = 'gray', linestyle = ':')\n",
    "    plt.legend()\n",
    "    plt.title('Loss (Cross Entropy)')\n",
    "    plt.show()\n",
    "    \n",
    "    plt.plot(epochs, acc, 'k', label = 'Training')\n",
    "    plt.plot(epochs, val_acc, 'r', label = 'Valdiation')\n",
    "    plt.axvline(minim, color = 'gray', linestyle = ':')\n",
    "    plt.legend()\n",
    "    plt.title('Accuracy')\n",
    "    plt.show()"
   ]
  },
  {
   "cell_type": "code",
   "execution_count": 36,
   "metadata": {},
   "outputs": [
    {
     "data": {
      "image/png": "[encoded data removed]",
      "text/plain": [
       "<Figure size 432x288 with 1 Axes>"
      ]
     },
     "metadata": {
      "needs_background": "light"
     },
     "output_type": "display_data"
    },
    {
     "data": {
      "image/png": "[encoded data removed]",
      "text/plain": [
       "<Figure size 432x288 with 1 Axes>"
      ]
     },
     "metadata": {
      "needs_background": "light"
     },
     "output_type": "display_data"
    }
   ],
   "source": [
    "history_plot(history1)"
   ]
  },
  {
   "cell_type": "code",
   "execution_count": null,
   "metadata": {},
   "outputs": [],
   "source": []
  },
  {
   "cell_type": "markdown",
   "metadata": {},
   "source": [
    "### 모델 평가"
   ]
  },
  {
   "cell_type": "code",
   "execution_count": 16,
   "metadata": {},
   "outputs": [],
   "source": [
    "best1 = load_model('model/churn_rnn_group3_1.hdf5')"
   ]
  },
  {
   "cell_type": "code",
   "execution_count": 17,
   "metadata": {},
   "outputs": [],
   "source": [
    "pred1 = best1.predict(xval)\n",
    "pred1 = pred1.reshape(len(pred1))"
   ]
  },
  {
   "cell_type": "code",
   "execution_count": 18,
   "metadata": {},
   "outputs": [],
   "source": [
    "prob_seq = np.arange(0, 1, step = 0.05)"
   ]
  },
  {
   "cell_type": "code",
   "execution_count": 19,
   "metadata": {},
   "outputs": [],
   "source": [
    "def ischurn(pred, prob):\n",
    "    churn = np.array([1 if pred[i] > prob else 0 for i in range(len(pred))])\n",
    "    return churn "
   ]
  },
  {
   "cell_type": "code",
   "execution_count": 20,
   "metadata": {},
   "outputs": [],
   "source": [
    "from sklearn.metrics import confusion_matrix, f1_score"
   ]
  },
  {
   "cell_type": "code",
   "execution_count": 21,
   "metadata": {},
   "outputs": [],
   "source": [
    "def f1score(pred, true, prob_seq):\n",
    "    error = []\n",
    "    for p in prob_seq:\n",
    "        c = ischurn(pred, p)\n",
    "        e = f1_score(true, c)\n",
    "        error.append(e)\n",
    "    return np.array(error)"
   ]
  },
  {
   "cell_type": "code",
   "execution_count": 22,
   "metadata": {},
   "outputs": [],
   "source": [
    "score1 = f1score(pred1, yval, prob_seq)"
   ]
  },
  {
   "cell_type": "code",
   "execution_count": 24,
   "metadata": {},
   "outputs": [
    {
     "data": {
      "image/png": "[encoded data removed]",
      "text/plain": [
       "<Figure size 432x288 with 1 Axes>"
      ]
     },
     "metadata": {
      "needs_background": "light"
     },
     "output_type": "display_data"
    }
   ],
   "source": [
    "max_score1 = np.round(np.max(score1)*100, 2)\n",
    "prob_best1 = np.round(prob_seq[np.argmax(score1)], 2)\n",
    "\n",
    "plt.plot(prob_seq, score1, c = 'darkblue')\n",
    "plt.axvline(prob_best1, color = 'gray', linestyle = ':')\n",
    "plt.xlim(0.1, 0.9)\n",
    "plt.title('F-1 Score = {} \\n maximized at p = {}'.format(max_score1, prob_best1))\n",
    "plt.show()"
   ]
  },
  {
   "cell_type": "code",
   "execution_count": 26,
   "metadata": {},
   "outputs": [],
   "source": [
    "pred1 = best1.predict(xtest)\n",
    "pred_churn1 = np.array([1 if p > 0.35 else 0 for p in pred1])"
   ]
  },
  {
   "cell_type": "code",
   "execution_count": 27,
   "metadata": {},
   "outputs": [
    {
     "name": "stdout",
     "output_type": "stream",
     "text": [
      "[[  6   4]\n",
      " [ 39 302]]\n"
     ]
    }
   ],
   "source": [
    "print(confusion_matrix(pred_churn1, ytest))"
   ]
  },
  {
   "cell_type": "code",
   "execution_count": 30,
   "metadata": {},
   "outputs": [
    {
     "data": {
      "text/plain": [
       "0.8774928774928775"
      ]
     },
     "execution_count": 30,
     "metadata": {},
     "output_type": "execute_result"
    }
   ],
   "source": [
    "np.mean(pred_churn1 == ytest)"
   ]
  },
  {
   "cell_type": "code",
   "execution_count": null,
   "metadata": {},
   "outputs": [],
   "source": []
  }
 ],
 "metadata": {
  "kernelspec": {
   "display_name": "Python 3",
   "language": "python",
   "name": "python3"
  },
  "language_info": {
   "codemirror_mode": {
    "name": "ipython",
    "version": 3
   },
   "file_extension": ".py",
   "mimetype": "text/x-python",
   "name": "python",
   "nbconvert_exporter": "python",
   "pygments_lexer": "ipython3",
   "version": "3.6.7"
  }
 },
 "nbformat": 4,
 "nbformat_minor": 2
}
