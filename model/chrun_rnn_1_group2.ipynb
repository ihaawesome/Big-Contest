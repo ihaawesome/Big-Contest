{
 "cells": [
  {
   "cell_type": "code",
   "execution_count": 24,
   "metadata": {},
   "outputs": [],
   "source": [
    "import pandas as pd\n",
    "import numpy as np\n",
    "import keras.backend as K\n",
    "import matplotlib.pyplot as plt\n",
    "import os"
   ]
  },
  {
   "cell_type": "code",
   "execution_count": 2,
   "metadata": {},
   "outputs": [],
   "source": [
    "# os.chdir('C:/Users/HK/Desktop/GitHub/Big-Contest')"
   ]
  },
  {
   "cell_type": "markdown",
   "metadata": {},
   "source": [
    "### 데이터 준비"
   ]
  },
  {
   "cell_type": "code",
   "execution_count": 3,
   "metadata": {},
   "outputs": [],
   "source": [
    "data = pd.read_csv('preprocess/train_sequence.csv')\n",
    "labels = pd.read_csv('model/train_label_surv.csv')"
   ]
  },
  {
   "cell_type": "code",
   "execution_count": 4,
   "metadata": {},
   "outputs": [
    {
     "name": "stdout",
     "output_type": "stream",
     "text": [
      "(1120000, 23)\n"
     ]
    },
    {
     "data": {
      "text/html": [
       "<div>\n",
       "<style scoped>\n",
       "    .dataframe tbody tr th:only-of-type {\n",
       "        vertical-align: middle;\n",
       "    }\n",
       "\n",
       "    .dataframe tbody tr th {\n",
       "        vertical-align: top;\n",
       "    }\n",
       "\n",
       "    .dataframe thead th {\n",
       "        text-align: right;\n",
       "    }\n",
       "</style>\n",
       "<table border=\"1\" class=\"dataframe\">\n",
       "  <thead>\n",
       "    <tr style=\"text-align: right;\">\n",
       "      <th></th>\n",
       "      <th>day</th>\n",
       "      <th>acc_id</th>\n",
       "      <th>week</th>\n",
       "      <th>risk_ratio</th>\n",
       "      <th>char_cnt_act</th>\n",
       "      <th>playtime</th>\n",
       "      <th>total_exp</th>\n",
       "      <th>party_exp_per</th>\n",
       "      <th>fishing</th>\n",
       "      <th>private_shop</th>\n",
       "      <th>...</th>\n",
       "      <th>amount_spent</th>\n",
       "      <th>purchase_pr</th>\n",
       "      <th>purchase_ex</th>\n",
       "      <th>sum_level</th>\n",
       "      <th>combat_cnt</th>\n",
       "      <th>num_opponent</th>\n",
       "      <th>play_char_cnt_pld</th>\n",
       "      <th>pledge_combat_cnt_pld</th>\n",
       "      <th>combat_play_time_pld</th>\n",
       "      <th>first_week</th>\n",
       "    </tr>\n",
       "  </thead>\n",
       "  <tbody>\n",
       "    <tr>\n",
       "      <th>0</th>\n",
       "      <td>1</td>\n",
       "      <td>2</td>\n",
       "      <td>1</td>\n",
       "      <td>0.000000</td>\n",
       "      <td>0.459885</td>\n",
       "      <td>1.251604</td>\n",
       "      <td>0.0</td>\n",
       "      <td>0.0</td>\n",
       "      <td>0.0</td>\n",
       "      <td>2.149331</td>\n",
       "      <td>...</td>\n",
       "      <td>0.0</td>\n",
       "      <td>0.0</td>\n",
       "      <td>0.0</td>\n",
       "      <td>0.0</td>\n",
       "      <td>0.0</td>\n",
       "      <td>0.0</td>\n",
       "      <td>0.0</td>\n",
       "      <td>0.0</td>\n",
       "      <td>0.0</td>\n",
       "      <td>1</td>\n",
       "    </tr>\n",
       "    <tr>\n",
       "      <th>1</th>\n",
       "      <td>2</td>\n",
       "      <td>2</td>\n",
       "      <td>1</td>\n",
       "      <td>1.037037</td>\n",
       "      <td>0.459885</td>\n",
       "      <td>1.557190</td>\n",
       "      <td>0.0</td>\n",
       "      <td>0.0</td>\n",
       "      <td>0.0</td>\n",
       "      <td>2.748687</td>\n",
       "      <td>...</td>\n",
       "      <td>0.0</td>\n",
       "      <td>0.0</td>\n",
       "      <td>0.0</td>\n",
       "      <td>0.0</td>\n",
       "      <td>0.0</td>\n",
       "      <td>0.0</td>\n",
       "      <td>0.0</td>\n",
       "      <td>0.0</td>\n",
       "      <td>0.0</td>\n",
       "      <td>1</td>\n",
       "    </tr>\n",
       "    <tr>\n",
       "      <th>2</th>\n",
       "      <td>3</td>\n",
       "      <td>2</td>\n",
       "      <td>1</td>\n",
       "      <td>1.037037</td>\n",
       "      <td>0.459885</td>\n",
       "      <td>1.560441</td>\n",
       "      <td>0.0</td>\n",
       "      <td>0.0</td>\n",
       "      <td>0.0</td>\n",
       "      <td>2.778651</td>\n",
       "      <td>...</td>\n",
       "      <td>0.0</td>\n",
       "      <td>0.0</td>\n",
       "      <td>0.0</td>\n",
       "      <td>0.0</td>\n",
       "      <td>0.0</td>\n",
       "      <td>0.0</td>\n",
       "      <td>0.0</td>\n",
       "      <td>0.0</td>\n",
       "      <td>0.0</td>\n",
       "      <td>1</td>\n",
       "    </tr>\n",
       "    <tr>\n",
       "      <th>3</th>\n",
       "      <td>4</td>\n",
       "      <td>2</td>\n",
       "      <td>1</td>\n",
       "      <td>1.037037</td>\n",
       "      <td>0.459885</td>\n",
       "      <td>1.560441</td>\n",
       "      <td>0.0</td>\n",
       "      <td>0.0</td>\n",
       "      <td>0.0</td>\n",
       "      <td>2.733738</td>\n",
       "      <td>...</td>\n",
       "      <td>0.0</td>\n",
       "      <td>0.0</td>\n",
       "      <td>0.0</td>\n",
       "      <td>0.0</td>\n",
       "      <td>0.0</td>\n",
       "      <td>0.0</td>\n",
       "      <td>0.0</td>\n",
       "      <td>0.0</td>\n",
       "      <td>0.0</td>\n",
       "      <td>1</td>\n",
       "    </tr>\n",
       "    <tr>\n",
       "      <th>4</th>\n",
       "      <td>5</td>\n",
       "      <td>2</td>\n",
       "      <td>1</td>\n",
       "      <td>1.037037</td>\n",
       "      <td>0.459885</td>\n",
       "      <td>1.560441</td>\n",
       "      <td>0.0</td>\n",
       "      <td>0.0</td>\n",
       "      <td>0.0</td>\n",
       "      <td>2.736973</td>\n",
       "      <td>...</td>\n",
       "      <td>0.0</td>\n",
       "      <td>0.0</td>\n",
       "      <td>0.0</td>\n",
       "      <td>0.0</td>\n",
       "      <td>0.0</td>\n",
       "      <td>0.0</td>\n",
       "      <td>0.0</td>\n",
       "      <td>0.0</td>\n",
       "      <td>0.0</td>\n",
       "      <td>1</td>\n",
       "    </tr>\n",
       "  </tbody>\n",
       "</table>\n",
       "<p>5 rows × 23 columns</p>\n",
       "</div>"
      ],
      "text/plain": [
       "   day  acc_id  week  risk_ratio  char_cnt_act  playtime  total_exp  \\\n",
       "0    1       2     1    0.000000      0.459885  1.251604        0.0   \n",
       "1    2       2     1    1.037037      0.459885  1.557190        0.0   \n",
       "2    3       2     1    1.037037      0.459885  1.560441        0.0   \n",
       "3    4       2     1    1.037037      0.459885  1.560441        0.0   \n",
       "4    5       2     1    1.037037      0.459885  1.560441        0.0   \n",
       "\n",
       "   party_exp_per  fishing  private_shop     ...      amount_spent  \\\n",
       "0            0.0      0.0      2.149331     ...               0.0   \n",
       "1            0.0      0.0      2.748687     ...               0.0   \n",
       "2            0.0      0.0      2.778651     ...               0.0   \n",
       "3            0.0      0.0      2.733738     ...               0.0   \n",
       "4            0.0      0.0      2.736973     ...               0.0   \n",
       "\n",
       "   purchase_pr  purchase_ex  sum_level  combat_cnt  num_opponent  \\\n",
       "0          0.0          0.0        0.0         0.0           0.0   \n",
       "1          0.0          0.0        0.0         0.0           0.0   \n",
       "2          0.0          0.0        0.0         0.0           0.0   \n",
       "3          0.0          0.0        0.0         0.0           0.0   \n",
       "4          0.0          0.0        0.0         0.0           0.0   \n",
       "\n",
       "   play_char_cnt_pld  pledge_combat_cnt_pld  combat_play_time_pld  first_week  \n",
       "0                0.0                    0.0                   0.0           1  \n",
       "1                0.0                    0.0                   0.0           1  \n",
       "2                0.0                    0.0                   0.0           1  \n",
       "3                0.0                    0.0                   0.0           1  \n",
       "4                0.0                    0.0                   0.0           1  \n",
       "\n",
       "[5 rows x 23 columns]"
      ]
     },
     "execution_count": 4,
     "metadata": {},
     "output_type": "execute_result"
    }
   ],
   "source": [
    "print(data.shape)\n",
    "data.head()"
   ]
  },
  {
   "cell_type": "code",
   "execution_count": 5,
   "metadata": {
    "scrolled": true
   },
   "outputs": [
    {
     "data": {
      "text/html": [
       "<div>\n",
       "<style scoped>\n",
       "    .dataframe tbody tr th:only-of-type {\n",
       "        vertical-align: middle;\n",
       "    }\n",
       "\n",
       "    .dataframe tbody tr th {\n",
       "        vertical-align: top;\n",
       "    }\n",
       "\n",
       "    .dataframe thead th {\n",
       "        text-align: right;\n",
       "    }\n",
       "</style>\n",
       "<table border=\"1\" class=\"dataframe\">\n",
       "  <thead>\n",
       "    <tr style=\"text-align: right;\">\n",
       "      <th></th>\n",
       "      <th>acc_id</th>\n",
       "      <th>first_week</th>\n",
       "      <th>survival_time</th>\n",
       "      <th>churn</th>\n",
       "      <th>survival_prob</th>\n",
       "      <th>amount_spent</th>\n",
       "      <th>payment</th>\n",
       "    </tr>\n",
       "  </thead>\n",
       "  <tbody>\n",
       "    <tr>\n",
       "      <th>0</th>\n",
       "      <td>2.0</td>\n",
       "      <td>1</td>\n",
       "      <td>64</td>\n",
       "      <td>0</td>\n",
       "      <td>0.549900</td>\n",
       "      <td>0.000000</td>\n",
       "      <td>0</td>\n",
       "    </tr>\n",
       "    <tr>\n",
       "      <th>1</th>\n",
       "      <td>5.0</td>\n",
       "      <td>2</td>\n",
       "      <td>60</td>\n",
       "      <td>1</td>\n",
       "      <td>0.558375</td>\n",
       "      <td>0.000000</td>\n",
       "      <td>0</td>\n",
       "    </tr>\n",
       "    <tr>\n",
       "      <th>2</th>\n",
       "      <td>8.0</td>\n",
       "      <td>1</td>\n",
       "      <td>64</td>\n",
       "      <td>0</td>\n",
       "      <td>0.549900</td>\n",
       "      <td>0.020310</td>\n",
       "      <td>1</td>\n",
       "    </tr>\n",
       "    <tr>\n",
       "      <th>3</th>\n",
       "      <td>17.0</td>\n",
       "      <td>1</td>\n",
       "      <td>64</td>\n",
       "      <td>0</td>\n",
       "      <td>0.549900</td>\n",
       "      <td>0.070642</td>\n",
       "      <td>1</td>\n",
       "    </tr>\n",
       "    <tr>\n",
       "      <th>4</th>\n",
       "      <td>20.0</td>\n",
       "      <td>1</td>\n",
       "      <td>64</td>\n",
       "      <td>0</td>\n",
       "      <td>0.549900</td>\n",
       "      <td>0.052137</td>\n",
       "      <td>1</td>\n",
       "    </tr>\n",
       "  </tbody>\n",
       "</table>\n",
       "</div>"
      ],
      "text/plain": [
       "   acc_id  first_week  survival_time  churn  survival_prob  amount_spent  \\\n",
       "0     2.0           1             64      0       0.549900      0.000000   \n",
       "1     5.0           2             60      1       0.558375      0.000000   \n",
       "2     8.0           1             64      0       0.549900      0.020310   \n",
       "3    17.0           1             64      0       0.549900      0.070642   \n",
       "4    20.0           1             64      0       0.549900      0.052137   \n",
       "\n",
       "   payment  \n",
       "0        0  \n",
       "1        0  \n",
       "2        1  \n",
       "3        1  \n",
       "4        1  "
      ]
     },
     "execution_count": 5,
     "metadata": {},
     "output_type": "execute_result"
    }
   ],
   "source": [
    "labels.head()"
   ]
  },
  {
   "cell_type": "code",
   "execution_count": 6,
   "metadata": {},
   "outputs": [],
   "source": [
    "def min_max_scale(xdata):\n",
    "    minim = np.min(xdata, axis = 0)\n",
    "    maxim = np.max(xdata, axis = 0)\n",
    "    xdata = (xdata - minim) / (maxim - minim)\n",
    "    xdata = np.array(xdata)\n",
    "    return xdata"
   ]
  },
  {
   "cell_type": "code",
   "execution_count": 7,
   "metadata": {},
   "outputs": [],
   "source": [
    "xdata = data.query('first_week == 2 or first_week == 3').query('day >= 8')\n",
    "xdata = min_max_scale(xdata.iloc[:, 3:22])\n",
    "ydata = np.array(labels.query('first_week == 2 or first_week == 3').iloc[:, 3])"
   ]
  },
  {
   "cell_type": "code",
   "execution_count": 8,
   "metadata": {},
   "outputs": [
    {
     "name": "stdout",
     "output_type": "stream",
     "text": [
      "(63147, 19)\n"
     ]
    }
   ],
   "source": [
    "print(xdata.shape)"
   ]
  },
  {
   "cell_type": "code",
   "execution_count": 9,
   "metadata": {},
   "outputs": [],
   "source": [
    "timesteps = 21\n",
    "nobs = len(xdata) // timesteps\n",
    "input_features = 19"
   ]
  },
  {
   "cell_type": "code",
   "execution_count": 10,
   "metadata": {},
   "outputs": [
    {
     "name": "stdout",
     "output_type": "stream",
     "text": [
      "(3007, 21, 19)\n",
      "(3007,)\n"
     ]
    }
   ],
   "source": [
    "xdata = xdata.reshape((nobs, timesteps, input_features))\n",
    "print(xdata.shape)\n",
    "print(ydata.shape)"
   ]
  },
  {
   "cell_type": "markdown",
   "metadata": {},
   "source": [
    "### 모델링"
   ]
  },
  {
   "cell_type": "code",
   "execution_count": 11,
   "metadata": {},
   "outputs": [],
   "source": [
    "from sklearn.model_selection import train_test_split"
   ]
  },
  {
   "cell_type": "code",
   "execution_count": 12,
   "metadata": {},
   "outputs": [],
   "source": [
    "xtrain, xtest, ytrain, ytest = train_test_split(xdata, ydata, test_size = 0.2, random_state = 100)\n",
    "xtrain, xval, ytrain, yval = train_test_split(xtrain, ytrain, test_size = 3/8, random_state = 200)"
   ]
  },
  {
   "cell_type": "code",
   "execution_count": 13,
   "metadata": {},
   "outputs": [
    {
     "name": "stdout",
     "output_type": "stream",
     "text": [
      "(1503, 21, 19)\n",
      "(902, 21, 19)\n",
      "(602, 21, 19)\n"
     ]
    }
   ],
   "source": [
    "print(xtrain.shape)\n",
    "print(xval.shape)\n",
    "print(xtest.shape)"
   ]
  },
  {
   "cell_type": "code",
   "execution_count": 14,
   "metadata": {},
   "outputs": [],
   "source": [
    "from keras.layers import Input, GRU, Dense\n",
    "from keras.models import Sequential, Model, load_model\n",
    "from keras import optimizers\n",
    "from keras import initializers"
   ]
  },
  {
   "cell_type": "code",
   "execution_count": 21,
   "metadata": {},
   "outputs": [],
   "source": [
    "def define_model_1(hidden_features):\n",
    "    K.clear_session()\n",
    "    inputs = Input(shape = (timesteps, input_features))\n",
    "    \n",
    "    h = GRU(units = hidden_features)(inputs)\n",
    "    \n",
    "    outputs = Dense(units = 1, activation = 'sigmoid')(h)\n",
    "    model = Model(inputs, outputs)\n",
    "    return model"
   ]
  },
  {
   "cell_type": "code",
   "execution_count": 22,
   "metadata": {
    "scrolled": true
   },
   "outputs": [
    {
     "name": "stdout",
     "output_type": "stream",
     "text": [
      "_________________________________________________________________\n",
      "Layer (type)                 Output Shape              Param #   \n",
      "=================================================================\n",
      "input_1 (InputLayer)         (None, 21, 19)            0         \n",
      "_________________________________________________________________\n",
      "gru_1 (GRU)                  (None, 64)                16128     \n",
      "_________________________________________________________________\n",
      "dense_1 (Dense)              (None, 1)                 65        \n",
      "=================================================================\n",
      "Total params: 16,193\n",
      "Trainable params: 16,193\n",
      "Non-trainable params: 0\n",
      "_________________________________________________________________\n"
     ]
    }
   ],
   "source": [
    "model1 = define_model_1(hidden_features = 64)\n",
    "model1.summary()"
   ]
  },
  {
   "cell_type": "code",
   "execution_count": 23,
   "metadata": {},
   "outputs": [],
   "source": [
    "model1.compile(loss = 'binary_crossentropy',\n",
    "               optimizer = optimizers.adam(lr = 0.001),\n",
    "               metrics = ['acc'])"
   ]
  },
  {
   "cell_type": "code",
   "execution_count": 24,
   "metadata": {},
   "outputs": [],
   "source": [
    "from keras.callbacks import ModelCheckpoint, EarlyStopping"
   ]
  },
  {
   "cell_type": "code",
   "execution_count": 25,
   "metadata": {},
   "outputs": [
    {
     "name": "stdout",
     "output_type": "stream",
     "text": [
      "Train on 1503 samples, validate on 902 samples\n",
      "Epoch 1/1000\n",
      " - 1s - loss: 0.6466 - acc: 0.7126 - val_loss: 0.6105 - val_acc: 0.7228\n",
      "Epoch 2/1000\n",
      " - 0s - loss: 0.6016 - acc: 0.7126 - val_loss: 0.5753 - val_acc: 0.7228\n",
      "Epoch 3/1000\n",
      " - 0s - loss: 0.5776 - acc: 0.7126 - val_loss: 0.5483 - val_acc: 0.7450\n",
      "Epoch 4/1000\n",
      " - 0s - loss: 0.5584 - acc: 0.7385 - val_loss: 0.5327 - val_acc: 0.7483\n",
      "Epoch 5/1000\n",
      " - 0s - loss: 0.5554 - acc: 0.7299 - val_loss: 0.5298 - val_acc: 0.7461\n",
      "Epoch 6/1000\n",
      " - 0s - loss: 0.5525 - acc: 0.7399 - val_loss: 0.5308 - val_acc: 0.7517\n",
      "Epoch 7/1000\n",
      " - 0s - loss: 0.5519 - acc: 0.7438 - val_loss: 0.5290 - val_acc: 0.7528\n",
      "Epoch 8/1000\n",
      " - 0s - loss: 0.5496 - acc: 0.7472 - val_loss: 0.5293 - val_acc: 0.7494\n",
      "Epoch 9/1000\n",
      " - 0s - loss: 0.5491 - acc: 0.7452 - val_loss: 0.5262 - val_acc: 0.7550\n",
      "Epoch 10/1000\n",
      " - 0s - loss: 0.5483 - acc: 0.7425 - val_loss: 0.5264 - val_acc: 0.7483\n",
      "Epoch 11/1000\n",
      " - 0s - loss: 0.5458 - acc: 0.7432 - val_loss: 0.5252 - val_acc: 0.7572\n",
      "Epoch 12/1000\n",
      " - 0s - loss: 0.5444 - acc: 0.7485 - val_loss: 0.5249 - val_acc: 0.7506\n",
      "Epoch 13/1000\n",
      " - 0s - loss: 0.5440 - acc: 0.7458 - val_loss: 0.5232 - val_acc: 0.7539\n",
      "Epoch 14/1000\n",
      " - 0s - loss: 0.5426 - acc: 0.7492 - val_loss: 0.5242 - val_acc: 0.7494\n",
      "Epoch 15/1000\n",
      " - 0s - loss: 0.5434 - acc: 0.7485 - val_loss: 0.5220 - val_acc: 0.7517\n",
      "Epoch 16/1000\n",
      " - 0s - loss: 0.5410 - acc: 0.7472 - val_loss: 0.5238 - val_acc: 0.7506\n",
      "Epoch 17/1000\n",
      " - 0s - loss: 0.5387 - acc: 0.7478 - val_loss: 0.5214 - val_acc: 0.7517\n",
      "Epoch 18/1000\n",
      " - 0s - loss: 0.5374 - acc: 0.7532 - val_loss: 0.5208 - val_acc: 0.7494\n",
      "Epoch 19/1000\n",
      " - 0s - loss: 0.5360 - acc: 0.7525 - val_loss: 0.5193 - val_acc: 0.7494\n",
      "Epoch 20/1000\n",
      " - 0s - loss: 0.5343 - acc: 0.7492 - val_loss: 0.5198 - val_acc: 0.7550\n",
      "Epoch 21/1000\n",
      " - 0s - loss: 0.5319 - acc: 0.7532 - val_loss: 0.5194 - val_acc: 0.7483\n",
      "Epoch 22/1000\n",
      " - 0s - loss: 0.5303 - acc: 0.7538 - val_loss: 0.5189 - val_acc: 0.7561\n",
      "Epoch 23/1000\n",
      " - 0s - loss: 0.5287 - acc: 0.7545 - val_loss: 0.5180 - val_acc: 0.7539\n",
      "Epoch 24/1000\n",
      " - 0s - loss: 0.5263 - acc: 0.7525 - val_loss: 0.5192 - val_acc: 0.7439\n",
      "Epoch 25/1000\n",
      " - 0s - loss: 0.5249 - acc: 0.7518 - val_loss: 0.5208 - val_acc: 0.7494\n",
      "Epoch 26/1000\n",
      " - 0s - loss: 0.5225 - acc: 0.7525 - val_loss: 0.5195 - val_acc: 0.7517\n",
      "Epoch 27/1000\n",
      " - 0s - loss: 0.5232 - acc: 0.7498 - val_loss: 0.5184 - val_acc: 0.7528\n",
      "Epoch 28/1000\n",
      " - 0s - loss: 0.5227 - acc: 0.7545 - val_loss: 0.5206 - val_acc: 0.7506\n",
      "Epoch 29/1000\n",
      " - 0s - loss: 0.5260 - acc: 0.7538 - val_loss: 0.5336 - val_acc: 0.7417\n",
      "Epoch 30/1000\n",
      " - 0s - loss: 0.5231 - acc: 0.7558 - val_loss: 0.5180 - val_acc: 0.7517\n",
      "Epoch 31/1000\n",
      " - 0s - loss: 0.5228 - acc: 0.7565 - val_loss: 0.5216 - val_acc: 0.7528\n",
      "Epoch 32/1000\n",
      " - 0s - loss: 0.5180 - acc: 0.7611 - val_loss: 0.5241 - val_acc: 0.7550\n",
      "Epoch 33/1000\n",
      " - 0s - loss: 0.5144 - acc: 0.7598 - val_loss: 0.5223 - val_acc: 0.7494\n",
      "Epoch 34/1000\n",
      " - 0s - loss: 0.5142 - acc: 0.7558 - val_loss: 0.5262 - val_acc: 0.7572\n",
      "Epoch 35/1000\n",
      " - 0s - loss: 0.5136 - acc: 0.7572 - val_loss: 0.5216 - val_acc: 0.7572\n",
      "Epoch 36/1000\n",
      " - 0s - loss: 0.5220 - acc: 0.7545 - val_loss: 0.5248 - val_acc: 0.7539\n",
      "Epoch 37/1000\n",
      " - 0s - loss: 0.5140 - acc: 0.7591 - val_loss: 0.5340 - val_acc: 0.7439\n",
      "Epoch 38/1000\n",
      " - 0s - loss: 0.5210 - acc: 0.7591 - val_loss: 0.5197 - val_acc: 0.7517\n",
      "Epoch 39/1000\n",
      " - 0s - loss: 0.5133 - acc: 0.7618 - val_loss: 0.5200 - val_acc: 0.7517\n",
      "Epoch 40/1000\n",
      " - 0s - loss: 0.5115 - acc: 0.7631 - val_loss: 0.5280 - val_acc: 0.7528\n",
      "Epoch 41/1000\n",
      " - 0s - loss: 0.5077 - acc: 0.7638 - val_loss: 0.5279 - val_acc: 0.7494\n",
      "Epoch 42/1000\n",
      " - 0s - loss: 0.5078 - acc: 0.7651 - val_loss: 0.5285 - val_acc: 0.7517\n",
      "Epoch 43/1000\n",
      " - 0s - loss: 0.5094 - acc: 0.7585 - val_loss: 0.5248 - val_acc: 0.7517\n",
      "Epoch 44/1000\n",
      " - 0s - loss: 0.5080 - acc: 0.7645 - val_loss: 0.5220 - val_acc: 0.7517\n",
      "Epoch 45/1000\n",
      " - 0s - loss: 0.5053 - acc: 0.7658 - val_loss: 0.5244 - val_acc: 0.7550\n",
      "Epoch 46/1000\n",
      " - 0s - loss: 0.5033 - acc: 0.7658 - val_loss: 0.5272 - val_acc: 0.7506\n",
      "Epoch 47/1000\n",
      " - 0s - loss: 0.5024 - acc: 0.7611 - val_loss: 0.5277 - val_acc: 0.7550\n",
      "Epoch 48/1000\n",
      " - 0s - loss: 0.5036 - acc: 0.7638 - val_loss: 0.5285 - val_acc: 0.7517\n",
      "Epoch 49/1000\n",
      " - 0s - loss: 0.5077 - acc: 0.7651 - val_loss: 0.5232 - val_acc: 0.7550\n",
      "Epoch 50/1000\n",
      " - 0s - loss: 0.5008 - acc: 0.7678 - val_loss: 0.5227 - val_acc: 0.7539\n",
      "Epoch 51/1000\n",
      " - 0s - loss: 0.5009 - acc: 0.7665 - val_loss: 0.5403 - val_acc: 0.7472\n",
      "Epoch 52/1000\n",
      " - 0s - loss: 0.5046 - acc: 0.7625 - val_loss: 0.5223 - val_acc: 0.7506\n",
      "Epoch 53/1000\n",
      " - 0s - loss: 0.5012 - acc: 0.7678 - val_loss: 0.5262 - val_acc: 0.7450\n",
      "Epoch 54/1000\n",
      " - 0s - loss: 0.4982 - acc: 0.7645 - val_loss: 0.5292 - val_acc: 0.7517\n",
      "Epoch 55/1000\n",
      " - 0s - loss: 0.4966 - acc: 0.7698 - val_loss: 0.5327 - val_acc: 0.7494\n",
      "Epoch 56/1000\n",
      " - 0s - loss: 0.4948 - acc: 0.7711 - val_loss: 0.5319 - val_acc: 0.7461\n",
      "Epoch 57/1000\n",
      " - 0s - loss: 0.4972 - acc: 0.7725 - val_loss: 0.5311 - val_acc: 0.7483\n",
      "Epoch 58/1000\n",
      " - 0s - loss: 0.4939 - acc: 0.7698 - val_loss: 0.5348 - val_acc: 0.7572\n",
      "Epoch 59/1000\n",
      " - 0s - loss: 0.4948 - acc: 0.7678 - val_loss: 0.5370 - val_acc: 0.7550\n",
      "Epoch 60/1000\n",
      " - 0s - loss: 0.4934 - acc: 0.7691 - val_loss: 0.5334 - val_acc: 0.7539\n",
      "Epoch 61/1000\n",
      " - 0s - loss: 0.4951 - acc: 0.7671 - val_loss: 0.5353 - val_acc: 0.7517\n",
      "Epoch 62/1000\n",
      " - 0s - loss: 0.4942 - acc: 0.7711 - val_loss: 0.5313 - val_acc: 0.7517\n",
      "Epoch 63/1000\n",
      " - 0s - loss: 0.4941 - acc: 0.7745 - val_loss: 0.5297 - val_acc: 0.7461\n",
      "Epoch 64/1000\n",
      " - 0s - loss: 0.4891 - acc: 0.7671 - val_loss: 0.5333 - val_acc: 0.7572\n",
      "Epoch 65/1000\n",
      " - 0s - loss: 0.4902 - acc: 0.7731 - val_loss: 0.5377 - val_acc: 0.7472\n",
      "Epoch 66/1000\n",
      " - 0s - loss: 0.4914 - acc: 0.7758 - val_loss: 0.5289 - val_acc: 0.7517\n",
      "Epoch 67/1000\n",
      " - 0s - loss: 0.4872 - acc: 0.7745 - val_loss: 0.5415 - val_acc: 0.7561\n",
      "Epoch 68/1000\n",
      " - 0s - loss: 0.4903 - acc: 0.7738 - val_loss: 0.5343 - val_acc: 0.7483\n",
      "Epoch 69/1000\n",
      " - 0s - loss: 0.4868 - acc: 0.7718 - val_loss: 0.5274 - val_acc: 0.7539\n",
      "Epoch 70/1000\n",
      " - 0s - loss: 0.4850 - acc: 0.7758 - val_loss: 0.5406 - val_acc: 0.7506\n",
      "Epoch 71/1000\n",
      " - 0s - loss: 0.4838 - acc: 0.7711 - val_loss: 0.5449 - val_acc: 0.7472\n",
      "Epoch 72/1000\n",
      " - 0s - loss: 0.4866 - acc: 0.7711 - val_loss: 0.5419 - val_acc: 0.7583\n",
      "Epoch 73/1000\n",
      " - 0s - loss: 0.4839 - acc: 0.7771 - val_loss: 0.5397 - val_acc: 0.7517\n"
     ]
    }
   ],
   "source": [
    "checkpoint = ModelCheckpoint('model/churn_rnn_group2_1.hdf5', save_best_only = True)\n",
    "earlystopping = EarlyStopping(patience = 50)\n",
    "\n",
    "history1 = model1.fit(xtrain, ytrain, validation_data = (xval, yval),\n",
    "                      epochs = 1000, batch_size = 128, \n",
    "                      callbacks = [checkpoint, earlystopping], verbose = 2)"
   ]
  },
  {
   "cell_type": "code",
   "execution_count": 26,
   "metadata": {},
   "outputs": [],
   "source": [
    "def history_plot(history):\n",
    "    loss = history.history['loss']\n",
    "    val_loss = history.history['val_loss']\n",
    "    acc = history.history['acc']\n",
    "    val_acc = history.history['val_acc']\n",
    "    \n",
    "    epochs = range(1, len(loss) + 1)\n",
    "    \n",
    "    minim = np.argmin(val_loss)\n",
    "    plt.plot(epochs, loss, 'k', label = 'Training')\n",
    "    plt.plot(epochs, val_loss, 'r', label = 'Valdiation')\n",
    "    plt.axvline(minim, color = 'gray', linestyle = ':')\n",
    "    plt.legend()\n",
    "    plt.title('Loss (Cross Entropy)')\n",
    "    plt.show()\n",
    "    \n",
    "    plt.plot(epochs, acc, 'k', label = 'Training')\n",
    "    plt.plot(epochs, val_acc, 'r', label = 'Valdiation')\n",
    "    plt.axvline(minim, color = 'gray', linestyle = ':')\n",
    "    plt.legend()\n",
    "    plt.title('Accuracy')\n",
    "    plt.show()"
   ]
  },
  {
   "cell_type": "code",
   "execution_count": 27,
   "metadata": {},
   "outputs": [
    {
     "data": {
      "image/png": "[encoded data removed]",
      "text/plain": [
       "<Figure size 432x288 with 1 Axes>"
      ]
     },
     "metadata": {
      "needs_background": "light"
     },
     "output_type": "display_data"
    },
    {
     "data": {
      "image/png": "[encoded data removed]",
      "text/plain": [
       "<Figure size 432x288 with 1 Axes>"
      ]
     },
     "metadata": {
      "needs_background": "light"
     },
     "output_type": "display_data"
    }
   ],
   "source": [
    "history_plot(history1)"
   ]
  },
  {
   "cell_type": "code",
   "execution_count": null,
   "metadata": {},
   "outputs": [],
   "source": []
  },
  {
   "cell_type": "markdown",
   "metadata": {},
   "source": [
    "### 모델 평가"
   ]
  },
  {
   "cell_type": "code",
   "execution_count": 15,
   "metadata": {},
   "outputs": [],
   "source": [
    "best1 = load_model('model/churn_rnn_group2_1.hdf5')"
   ]
  },
  {
   "cell_type": "code",
   "execution_count": 16,
   "metadata": {},
   "outputs": [],
   "source": [
    "pred1 = best1.predict(xval)\n",
    "pred1 = pred1.reshape(len(pred1))"
   ]
  },
  {
   "cell_type": "code",
   "execution_count": 18,
   "metadata": {},
   "outputs": [],
   "source": [
    "prob_seq = np.arange(0, 1, step = 0.05)"
   ]
  },
  {
   "cell_type": "code",
   "execution_count": 19,
   "metadata": {},
   "outputs": [],
   "source": [
    "def ischurn(pred, prob):\n",
    "    churn = np.array([1 if pred[i] > prob else 0 for i in range(len(pred))])\n",
    "    return churn "
   ]
  },
  {
   "cell_type": "code",
   "execution_count": 20,
   "metadata": {},
   "outputs": [],
   "source": [
    "from sklearn.metrics import confusion_matrix, f1_score"
   ]
  },
  {
   "cell_type": "code",
   "execution_count": 21,
   "metadata": {},
   "outputs": [],
   "source": [
    "def f1score(pred, true, prob_seq):\n",
    "    error = []\n",
    "    for p in prob_seq:\n",
    "        c = ischurn(pred, p)\n",
    "        e = f1_score(true, c)\n",
    "        error.append(e)\n",
    "    return np.array(error)"
   ]
  },
  {
   "cell_type": "code",
   "execution_count": 22,
   "metadata": {},
   "outputs": [],
   "source": [
    "score1 = f1score(pred1, yval, prob_seq)"
   ]
  },
  {
   "cell_type": "code",
   "execution_count": 26,
   "metadata": {},
   "outputs": [
    {
     "data": {
      "image/png": "[encoded data removed]",
      "text/plain": [
       "<Figure size 432x288 with 1 Axes>"
      ]
     },
     "metadata": {
      "needs_background": "light"
     },
     "output_type": "display_data"
    }
   ],
   "source": [
    "max_score1 = np.round(np.max(score1)*100, 2)\n",
    "prob_best1 = np.round(prob_seq[np.argmax(score1)], 2)\n",
    "\n",
    "plt.plot(prob_seq, score1, c = 'darkblue')\n",
    "plt.axvline(prob_best1, color = 'gray', linestyle = ':')\n",
    "plt.xlim(0.1, 0.9)\n",
    "plt.title('F-1 Score = {} \\n maximized at p = {}'.format(max_score1, prob_best1))\n",
    "plt.show()"
   ]
  },
  {
   "cell_type": "code",
   "execution_count": 34,
   "metadata": {},
   "outputs": [],
   "source": [
    "pred1 = best1.predict(xtest)\n",
    "pred_churn1 = np.array([1 if p > 0.30 else 0 for p in pred1])"
   ]
  },
  {
   "cell_type": "code",
   "execution_count": 35,
   "metadata": {},
   "outputs": [
    {
     "name": "stdout",
     "output_type": "stream",
     "text": [
      "[[ 11   3]\n",
      " [164 424]]\n"
     ]
    }
   ],
   "source": [
    "print(confusion_matrix(pred_churn1, ytest))"
   ]
  },
  {
   "cell_type": "code",
   "execution_count": 39,
   "metadata": {},
   "outputs": [
    {
     "data": {
      "text/plain": [
       "0.7225913621262459"
      ]
     },
     "execution_count": 39,
     "metadata": {},
     "output_type": "execute_result"
    }
   ],
   "source": [
    "# Accuracy\n",
    "np.mean(pred_churn1 == ytest)"
   ]
  },
  {
   "cell_type": "code",
   "execution_count": null,
   "metadata": {},
   "outputs": [],
   "source": []
  }
 ],
 "metadata": {
  "kernelspec": {
   "display_name": "Python 3",
   "language": "python",
   "name": "python3"
  },
  "language_info": {
   "codemirror_mode": {
    "name": "ipython",
    "version": 3
   },
   "file_extension": ".py",
   "mimetype": "text/x-python",
   "name": "python",
   "nbconvert_exporter": "python",
   "pygments_lexer": "ipython3",
   "version": "3.6.7"
  }
 },
 "nbformat": 4,
 "nbformat_minor": 2
}
