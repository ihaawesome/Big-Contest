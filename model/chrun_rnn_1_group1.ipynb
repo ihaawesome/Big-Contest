{
 "cells": [
  {
   "cell_type": "code",
   "execution_count": 3,
   "metadata": {},
   "outputs": [],
   "source": [
    "import pandas as pd\n",
    "import numpy as np\n",
    "import keras.backend as K\n",
    "import matplotlib.pyplot as plt\n",
    "import os"
   ]
  },
  {
   "cell_type": "code",
   "execution_count": 4,
   "metadata": {},
   "outputs": [],
   "source": [
    "# os.chdir('C:/Users/HK/Desktop/GitHub/Big-Contest')"
   ]
  },
  {
   "cell_type": "markdown",
   "metadata": {},
   "source": [
    "### 데이터 준비"
   ]
  },
  {
   "cell_type": "code",
   "execution_count": 5,
   "metadata": {},
   "outputs": [],
   "source": [
    "data = pd.read_csv('preprocess/train_sequence.csv')\n",
    "labels = pd.read_csv('model/train_label_surv.csv')"
   ]
  },
  {
   "cell_type": "code",
   "execution_count": 6,
   "metadata": {},
   "outputs": [
    {
     "name": "stdout",
     "output_type": "stream",
     "text": [
      "(1120000, 23)\n"
     ]
    },
    {
     "data": {
      "text/html": [
       "<div>\n",
       "<style scoped>\n",
       "    .dataframe tbody tr th:only-of-type {\n",
       "        vertical-align: middle;\n",
       "    }\n",
       "\n",
       "    .dataframe tbody tr th {\n",
       "        vertical-align: top;\n",
       "    }\n",
       "\n",
       "    .dataframe thead th {\n",
       "        text-align: right;\n",
       "    }\n",
       "</style>\n",
       "<table border=\"1\" class=\"dataframe\">\n",
       "  <thead>\n",
       "    <tr style=\"text-align: right;\">\n",
       "      <th></th>\n",
       "      <th>day</th>\n",
       "      <th>acc_id</th>\n",
       "      <th>week</th>\n",
       "      <th>risk_ratio</th>\n",
       "      <th>char_cnt_act</th>\n",
       "      <th>playtime</th>\n",
       "      <th>total_exp</th>\n",
       "      <th>party_exp_per</th>\n",
       "      <th>fishing</th>\n",
       "      <th>private_shop</th>\n",
       "      <th>...</th>\n",
       "      <th>amount_spent</th>\n",
       "      <th>purchase_pr</th>\n",
       "      <th>purchase_ex</th>\n",
       "      <th>sum_level</th>\n",
       "      <th>combat_cnt</th>\n",
       "      <th>num_opponent</th>\n",
       "      <th>play_char_cnt_pld</th>\n",
       "      <th>pledge_combat_cnt_pld</th>\n",
       "      <th>combat_play_time_pld</th>\n",
       "      <th>first_week</th>\n",
       "    </tr>\n",
       "  </thead>\n",
       "  <tbody>\n",
       "    <tr>\n",
       "      <th>0</th>\n",
       "      <td>1</td>\n",
       "      <td>2</td>\n",
       "      <td>1</td>\n",
       "      <td>0.000000</td>\n",
       "      <td>0.459885</td>\n",
       "      <td>1.251604</td>\n",
       "      <td>0.0</td>\n",
       "      <td>0.0</td>\n",
       "      <td>0.0</td>\n",
       "      <td>2.149331</td>\n",
       "      <td>...</td>\n",
       "      <td>0.0</td>\n",
       "      <td>0.0</td>\n",
       "      <td>0.0</td>\n",
       "      <td>0.0</td>\n",
       "      <td>0.0</td>\n",
       "      <td>0.0</td>\n",
       "      <td>0.0</td>\n",
       "      <td>0.0</td>\n",
       "      <td>0.0</td>\n",
       "      <td>1</td>\n",
       "    </tr>\n",
       "    <tr>\n",
       "      <th>1</th>\n",
       "      <td>2</td>\n",
       "      <td>2</td>\n",
       "      <td>1</td>\n",
       "      <td>1.037037</td>\n",
       "      <td>0.459885</td>\n",
       "      <td>1.557190</td>\n",
       "      <td>0.0</td>\n",
       "      <td>0.0</td>\n",
       "      <td>0.0</td>\n",
       "      <td>2.748687</td>\n",
       "      <td>...</td>\n",
       "      <td>0.0</td>\n",
       "      <td>0.0</td>\n",
       "      <td>0.0</td>\n",
       "      <td>0.0</td>\n",
       "      <td>0.0</td>\n",
       "      <td>0.0</td>\n",
       "      <td>0.0</td>\n",
       "      <td>0.0</td>\n",
       "      <td>0.0</td>\n",
       "      <td>1</td>\n",
       "    </tr>\n",
       "    <tr>\n",
       "      <th>2</th>\n",
       "      <td>3</td>\n",
       "      <td>2</td>\n",
       "      <td>1</td>\n",
       "      <td>1.037037</td>\n",
       "      <td>0.459885</td>\n",
       "      <td>1.560441</td>\n",
       "      <td>0.0</td>\n",
       "      <td>0.0</td>\n",
       "      <td>0.0</td>\n",
       "      <td>2.778651</td>\n",
       "      <td>...</td>\n",
       "      <td>0.0</td>\n",
       "      <td>0.0</td>\n",
       "      <td>0.0</td>\n",
       "      <td>0.0</td>\n",
       "      <td>0.0</td>\n",
       "      <td>0.0</td>\n",
       "      <td>0.0</td>\n",
       "      <td>0.0</td>\n",
       "      <td>0.0</td>\n",
       "      <td>1</td>\n",
       "    </tr>\n",
       "    <tr>\n",
       "      <th>3</th>\n",
       "      <td>4</td>\n",
       "      <td>2</td>\n",
       "      <td>1</td>\n",
       "      <td>1.037037</td>\n",
       "      <td>0.459885</td>\n",
       "      <td>1.560441</td>\n",
       "      <td>0.0</td>\n",
       "      <td>0.0</td>\n",
       "      <td>0.0</td>\n",
       "      <td>2.733738</td>\n",
       "      <td>...</td>\n",
       "      <td>0.0</td>\n",
       "      <td>0.0</td>\n",
       "      <td>0.0</td>\n",
       "      <td>0.0</td>\n",
       "      <td>0.0</td>\n",
       "      <td>0.0</td>\n",
       "      <td>0.0</td>\n",
       "      <td>0.0</td>\n",
       "      <td>0.0</td>\n",
       "      <td>1</td>\n",
       "    </tr>\n",
       "    <tr>\n",
       "      <th>4</th>\n",
       "      <td>5</td>\n",
       "      <td>2</td>\n",
       "      <td>1</td>\n",
       "      <td>1.037037</td>\n",
       "      <td>0.459885</td>\n",
       "      <td>1.560441</td>\n",
       "      <td>0.0</td>\n",
       "      <td>0.0</td>\n",
       "      <td>0.0</td>\n",
       "      <td>2.736973</td>\n",
       "      <td>...</td>\n",
       "      <td>0.0</td>\n",
       "      <td>0.0</td>\n",
       "      <td>0.0</td>\n",
       "      <td>0.0</td>\n",
       "      <td>0.0</td>\n",
       "      <td>0.0</td>\n",
       "      <td>0.0</td>\n",
       "      <td>0.0</td>\n",
       "      <td>0.0</td>\n",
       "      <td>1</td>\n",
       "    </tr>\n",
       "  </tbody>\n",
       "</table>\n",
       "<p>5 rows × 23 columns</p>\n",
       "</div>"
      ],
      "text/plain": [
       "   day  acc_id  week  risk_ratio  char_cnt_act  playtime  total_exp  \\\n",
       "0    1       2     1    0.000000      0.459885  1.251604        0.0   \n",
       "1    2       2     1    1.037037      0.459885  1.557190        0.0   \n",
       "2    3       2     1    1.037037      0.459885  1.560441        0.0   \n",
       "3    4       2     1    1.037037      0.459885  1.560441        0.0   \n",
       "4    5       2     1    1.037037      0.459885  1.560441        0.0   \n",
       "\n",
       "   party_exp_per  fishing  private_shop     ...      amount_spent  \\\n",
       "0            0.0      0.0      2.149331     ...               0.0   \n",
       "1            0.0      0.0      2.748687     ...               0.0   \n",
       "2            0.0      0.0      2.778651     ...               0.0   \n",
       "3            0.0      0.0      2.733738     ...               0.0   \n",
       "4            0.0      0.0      2.736973     ...               0.0   \n",
       "\n",
       "   purchase_pr  purchase_ex  sum_level  combat_cnt  num_opponent  \\\n",
       "0          0.0          0.0        0.0         0.0           0.0   \n",
       "1          0.0          0.0        0.0         0.0           0.0   \n",
       "2          0.0          0.0        0.0         0.0           0.0   \n",
       "3          0.0          0.0        0.0         0.0           0.0   \n",
       "4          0.0          0.0        0.0         0.0           0.0   \n",
       "\n",
       "   play_char_cnt_pld  pledge_combat_cnt_pld  combat_play_time_pld  first_week  \n",
       "0                0.0                    0.0                   0.0           1  \n",
       "1                0.0                    0.0                   0.0           1  \n",
       "2                0.0                    0.0                   0.0           1  \n",
       "3                0.0                    0.0                   0.0           1  \n",
       "4                0.0                    0.0                   0.0           1  \n",
       "\n",
       "[5 rows x 23 columns]"
      ]
     },
     "execution_count": 6,
     "metadata": {},
     "output_type": "execute_result"
    }
   ],
   "source": [
    "print(data.shape)\n",
    "data.head()"
   ]
  },
  {
   "cell_type": "code",
   "execution_count": 7,
   "metadata": {
    "scrolled": true
   },
   "outputs": [
    {
     "data": {
      "text/html": [
       "<div>\n",
       "<style scoped>\n",
       "    .dataframe tbody tr th:only-of-type {\n",
       "        vertical-align: middle;\n",
       "    }\n",
       "\n",
       "    .dataframe tbody tr th {\n",
       "        vertical-align: top;\n",
       "    }\n",
       "\n",
       "    .dataframe thead th {\n",
       "        text-align: right;\n",
       "    }\n",
       "</style>\n",
       "<table border=\"1\" class=\"dataframe\">\n",
       "  <thead>\n",
       "    <tr style=\"text-align: right;\">\n",
       "      <th></th>\n",
       "      <th>acc_id</th>\n",
       "      <th>first_week</th>\n",
       "      <th>survival_time</th>\n",
       "      <th>churn</th>\n",
       "      <th>survival_prob</th>\n",
       "      <th>amount_spent</th>\n",
       "      <th>payment</th>\n",
       "    </tr>\n",
       "  </thead>\n",
       "  <tbody>\n",
       "    <tr>\n",
       "      <th>0</th>\n",
       "      <td>2.0</td>\n",
       "      <td>1</td>\n",
       "      <td>64</td>\n",
       "      <td>0</td>\n",
       "      <td>0.549900</td>\n",
       "      <td>0.000000</td>\n",
       "      <td>0</td>\n",
       "    </tr>\n",
       "    <tr>\n",
       "      <th>1</th>\n",
       "      <td>5.0</td>\n",
       "      <td>2</td>\n",
       "      <td>60</td>\n",
       "      <td>1</td>\n",
       "      <td>0.558375</td>\n",
       "      <td>0.000000</td>\n",
       "      <td>0</td>\n",
       "    </tr>\n",
       "    <tr>\n",
       "      <th>2</th>\n",
       "      <td>8.0</td>\n",
       "      <td>1</td>\n",
       "      <td>64</td>\n",
       "      <td>0</td>\n",
       "      <td>0.549900</td>\n",
       "      <td>0.020310</td>\n",
       "      <td>1</td>\n",
       "    </tr>\n",
       "    <tr>\n",
       "      <th>3</th>\n",
       "      <td>17.0</td>\n",
       "      <td>1</td>\n",
       "      <td>64</td>\n",
       "      <td>0</td>\n",
       "      <td>0.549900</td>\n",
       "      <td>0.070642</td>\n",
       "      <td>1</td>\n",
       "    </tr>\n",
       "    <tr>\n",
       "      <th>4</th>\n",
       "      <td>20.0</td>\n",
       "      <td>1</td>\n",
       "      <td>64</td>\n",
       "      <td>0</td>\n",
       "      <td>0.549900</td>\n",
       "      <td>0.052137</td>\n",
       "      <td>1</td>\n",
       "    </tr>\n",
       "  </tbody>\n",
       "</table>\n",
       "</div>"
      ],
      "text/plain": [
       "   acc_id  first_week  survival_time  churn  survival_prob  amount_spent  \\\n",
       "0     2.0           1             64      0       0.549900      0.000000   \n",
       "1     5.0           2             60      1       0.558375      0.000000   \n",
       "2     8.0           1             64      0       0.549900      0.020310   \n",
       "3    17.0           1             64      0       0.549900      0.070642   \n",
       "4    20.0           1             64      0       0.549900      0.052137   \n",
       "\n",
       "   payment  \n",
       "0        0  \n",
       "1        0  \n",
       "2        1  \n",
       "3        1  \n",
       "4        1  "
      ]
     },
     "execution_count": 7,
     "metadata": {},
     "output_type": "execute_result"
    }
   ],
   "source": [
    "labels.head()"
   ]
  },
  {
   "cell_type": "code",
   "execution_count": 8,
   "metadata": {},
   "outputs": [],
   "source": [
    "def min_max_scale(xdata):\n",
    "    minim = np.min(xdata, axis = 0)\n",
    "    maxim = np.max(xdata, axis = 0)\n",
    "    xdata = (xdata - minim) / (maxim - minim)\n",
    "    xdata = np.array(xdata)\n",
    "    return xdata"
   ]
  },
  {
   "cell_type": "code",
   "execution_count": 9,
   "metadata": {},
   "outputs": [],
   "source": [
    "xdata = min_max_scale(data.query('first_week == 1').iloc[:, 3:22])\n",
    "ydata = np.array(labels.query('first_week == 1').iloc[:, 3])"
   ]
  },
  {
   "cell_type": "code",
   "execution_count": 10,
   "metadata": {},
   "outputs": [
    {
     "name": "stdout",
     "output_type": "stream",
     "text": [
      "(986748, 19)\n"
     ]
    }
   ],
   "source": [
    "print(xdata.shape)"
   ]
  },
  {
   "cell_type": "code",
   "execution_count": 11,
   "metadata": {},
   "outputs": [],
   "source": [
    "timesteps = 28\n",
    "nobs = len(xdata) // timesteps\n",
    "input_features = 19"
   ]
  },
  {
   "cell_type": "code",
   "execution_count": 12,
   "metadata": {},
   "outputs": [
    {
     "name": "stdout",
     "output_type": "stream",
     "text": [
      "(35241, 28, 19)\n",
      "(35241,)\n"
     ]
    }
   ],
   "source": [
    "xdata = xdata.reshape((nobs, timesteps, input_features))\n",
    "print(xdata.shape)\n",
    "print(ydata.shape)"
   ]
  },
  {
   "cell_type": "markdown",
   "metadata": {},
   "source": [
    "### 모델링"
   ]
  },
  {
   "cell_type": "code",
   "execution_count": 13,
   "metadata": {},
   "outputs": [],
   "source": [
    "from sklearn.model_selection import train_test_split"
   ]
  },
  {
   "cell_type": "code",
   "execution_count": 14,
   "metadata": {},
   "outputs": [],
   "source": [
    "xtrain, xtest, ytrain, ytest = train_test_split(xdata, ydata, test_size = 0.2, random_state = 100)\n",
    "xtrain, xval, ytrain, yval = train_test_split(xtrain, ytrain, test_size = 3/8, random_state = 200)"
   ]
  },
  {
   "cell_type": "code",
   "execution_count": 15,
   "metadata": {},
   "outputs": [
    {
     "name": "stdout",
     "output_type": "stream",
     "text": [
      "(17620, 28, 19)\n",
      "(10572, 28, 19)\n",
      "(7049, 28, 19)\n"
     ]
    }
   ],
   "source": [
    "print(xtrain.shape)\n",
    "print(xval.shape)\n",
    "print(xtest.shape)"
   ]
  },
  {
   "cell_type": "code",
   "execution_count": 16,
   "metadata": {},
   "outputs": [],
   "source": [
    "from keras.layers import Input, GRU, Dense\n",
    "from keras.models import Sequential, Model, load_model\n",
    "from keras import optimizers\n",
    "from keras import initializers"
   ]
  },
  {
   "cell_type": "code",
   "execution_count": 17,
   "metadata": {},
   "outputs": [],
   "source": [
    "def define_model_1(hidden_features):\n",
    "    K.clear_session()\n",
    "    inputs = Input(shape = (timesteps, input_features))\n",
    "    \n",
    "    h = GRU(units = hidden_features)(inputs)\n",
    "    \n",
    "    outputs = Dense(units = 1, activation = 'sigmoid')(h)\n",
    "    model = Model(inputs, outputs)\n",
    "    return model"
   ]
  },
  {
   "cell_type": "code",
   "execution_count": 22,
   "metadata": {
    "scrolled": true
   },
   "outputs": [
    {
     "name": "stdout",
     "output_type": "stream",
     "text": [
      "_________________________________________________________________\n",
      "Layer (type)                 Output Shape              Param #   \n",
      "=================================================================\n",
      "input_1 (InputLayer)         (None, 28, 19)            0         \n",
      "_________________________________________________________________\n",
      "gru_1 (GRU)                  (None, 64)                16128     \n",
      "_________________________________________________________________\n",
      "dense_1 (Dense)              (None, 1)                 65        \n",
      "=================================================================\n",
      "Total params: 16,193\n",
      "Trainable params: 16,193\n",
      "Non-trainable params: 0\n",
      "_________________________________________________________________\n"
     ]
    }
   ],
   "source": [
    "model1 = define_model_1(hidden_features = 64)\n",
    "model1.summary()"
   ]
  },
  {
   "cell_type": "code",
   "execution_count": 23,
   "metadata": {},
   "outputs": [],
   "source": [
    "model1.compile(loss = 'binary_crossentropy',\n",
    "               optimizer = optimizers.adam(lr = 0.001),\n",
    "               metrics = ['acc'])"
   ]
  },
  {
   "cell_type": "code",
   "execution_count": 25,
   "metadata": {},
   "outputs": [],
   "source": [
    "from keras.callbacks import ModelCheckpoint, EarlyStopping"
   ]
  },
  {
   "cell_type": "code",
   "execution_count": 26,
   "metadata": {},
   "outputs": [
    {
     "name": "stdout",
     "output_type": "stream",
     "text": [
      "Train on 17620 samples, validate on 10572 samples\n",
      "Epoch 1/1000\n",
      " - 5s - loss: 0.6313 - acc: 0.6239 - val_loss: 0.6039 - val_acc: 0.6589\n",
      "Epoch 2/1000\n",
      " - 4s - loss: 0.5843 - acc: 0.6883 - val_loss: 0.5716 - val_acc: 0.7067\n",
      "Epoch 3/1000\n",
      " - 4s - loss: 0.5679 - acc: 0.7075 - val_loss: 0.5682 - val_acc: 0.7089\n",
      "Epoch 4/1000\n",
      " - 4s - loss: 0.5613 - acc: 0.7117 - val_loss: 0.5606 - val_acc: 0.7139\n",
      "Epoch 5/1000\n",
      " - 4s - loss: 0.5554 - acc: 0.7122 - val_loss: 0.5542 - val_acc: 0.7150\n",
      "Epoch 6/1000\n",
      " - 4s - loss: 0.5516 - acc: 0.7142 - val_loss: 0.5515 - val_acc: 0.7185\n",
      "Epoch 7/1000\n",
      " - 4s - loss: 0.5490 - acc: 0.7158 - val_loss: 0.5531 - val_acc: 0.7149\n",
      "Epoch 8/1000\n",
      " - 4s - loss: 0.5460 - acc: 0.7167 - val_loss: 0.5513 - val_acc: 0.7197\n",
      "Epoch 9/1000\n",
      " - 4s - loss: 0.5466 - acc: 0.7182 - val_loss: 0.5475 - val_acc: 0.7214\n",
      "Epoch 10/1000\n",
      " - 4s - loss: 0.5445 - acc: 0.7180 - val_loss: 0.5467 - val_acc: 0.7195\n",
      "Epoch 11/1000\n",
      " - 4s - loss: 0.5435 - acc: 0.7179 - val_loss: 0.5517 - val_acc: 0.7165\n",
      "Epoch 12/1000\n",
      " - 4s - loss: 0.5432 - acc: 0.7204 - val_loss: 0.5475 - val_acc: 0.7186\n",
      "Epoch 13/1000\n",
      " - 4s - loss: 0.5421 - acc: 0.7184 - val_loss: 0.5469 - val_acc: 0.7204\n",
      "Epoch 14/1000\n",
      " - 4s - loss: 0.5428 - acc: 0.7201 - val_loss: 0.5451 - val_acc: 0.7214\n",
      "Epoch 15/1000\n",
      " - 4s - loss: 0.5413 - acc: 0.7187 - val_loss: 0.5454 - val_acc: 0.7215\n",
      "Epoch 16/1000\n",
      " - 4s - loss: 0.5429 - acc: 0.7192 - val_loss: 0.5453 - val_acc: 0.7209\n",
      "Epoch 17/1000\n",
      " - 5s - loss: 0.5407 - acc: 0.7184 - val_loss: 0.5463 - val_acc: 0.7216\n",
      "Epoch 18/1000\n",
      " - 5s - loss: 0.5405 - acc: 0.7205 - val_loss: 0.5437 - val_acc: 0.7237\n",
      "Epoch 19/1000\n",
      " - 4s - loss: 0.5398 - acc: 0.7217 - val_loss: 0.5482 - val_acc: 0.7191\n",
      "Epoch 20/1000\n",
      " - 4s - loss: 0.5396 - acc: 0.7186 - val_loss: 0.5433 - val_acc: 0.7213\n",
      "Epoch 21/1000\n",
      " - 4s - loss: 0.5379 - acc: 0.7222 - val_loss: 0.5424 - val_acc: 0.7201\n",
      "Epoch 22/1000\n",
      " - 4s - loss: 0.5388 - acc: 0.7225 - val_loss: 0.5425 - val_acc: 0.7212\n",
      "Epoch 23/1000\n",
      " - 4s - loss: 0.5377 - acc: 0.7218 - val_loss: 0.5417 - val_acc: 0.7233\n",
      "Epoch 24/1000\n",
      " - 4s - loss: 0.5360 - acc: 0.7231 - val_loss: 0.5421 - val_acc: 0.7223\n",
      "Epoch 25/1000\n",
      " - 4s - loss: 0.5362 - acc: 0.7226 - val_loss: 0.5409 - val_acc: 0.7212\n",
      "Epoch 26/1000\n",
      " - 4s - loss: 0.5344 - acc: 0.7254 - val_loss: 0.5471 - val_acc: 0.7175\n",
      "Epoch 27/1000\n",
      " - 4s - loss: 0.5348 - acc: 0.7226 - val_loss: 0.5426 - val_acc: 0.7246\n",
      "Epoch 28/1000\n",
      " - 4s - loss: 0.5341 - acc: 0.7228 - val_loss: 0.5420 - val_acc: 0.7223\n",
      "Epoch 29/1000\n",
      " - 4s - loss: 0.5343 - acc: 0.7255 - val_loss: 0.5543 - val_acc: 0.7113\n",
      "Epoch 30/1000\n",
      " - 5s - loss: 0.5337 - acc: 0.7242 - val_loss: 0.5385 - val_acc: 0.7236\n",
      "Epoch 31/1000\n",
      " - 5s - loss: 0.5326 - acc: 0.7224 - val_loss: 0.5405 - val_acc: 0.7210\n",
      "Epoch 32/1000\n",
      " - 5s - loss: 0.5319 - acc: 0.7262 - val_loss: 0.5385 - val_acc: 0.7235\n",
      "Epoch 33/1000\n",
      " - 4s - loss: 0.5312 - acc: 0.7286 - val_loss: 0.5383 - val_acc: 0.7216\n",
      "Epoch 34/1000\n",
      " - 4s - loss: 0.5300 - acc: 0.7272 - val_loss: 0.5425 - val_acc: 0.7223\n",
      "Epoch 35/1000\n",
      " - 4s - loss: 0.5298 - acc: 0.7259 - val_loss: 0.5375 - val_acc: 0.7235\n",
      "Epoch 36/1000\n",
      " - 4s - loss: 0.5286 - acc: 0.7274 - val_loss: 0.5423 - val_acc: 0.7219\n",
      "Epoch 37/1000\n",
      " - 4s - loss: 0.5281 - acc: 0.7276 - val_loss: 0.5366 - val_acc: 0.7224\n",
      "Epoch 38/1000\n",
      " - 4s - loss: 0.5263 - acc: 0.7275 - val_loss: 0.5390 - val_acc: 0.7204\n",
      "Epoch 39/1000\n",
      " - 5s - loss: 0.5247 - acc: 0.7292 - val_loss: 0.5351 - val_acc: 0.7261\n",
      "Epoch 40/1000\n",
      " - 4s - loss: 0.5246 - acc: 0.7309 - val_loss: 0.5354 - val_acc: 0.7224\n",
      "Epoch 41/1000\n",
      " - 4s - loss: 0.5233 - acc: 0.7346 - val_loss: 0.5355 - val_acc: 0.7245\n",
      "Epoch 42/1000\n",
      " - 4s - loss: 0.5220 - acc: 0.7301 - val_loss: 0.5373 - val_acc: 0.7206\n",
      "Epoch 43/1000\n",
      " - 4s - loss: 0.5221 - acc: 0.7316 - val_loss: 0.5375 - val_acc: 0.7209\n",
      "Epoch 44/1000\n",
      " - 4s - loss: 0.5208 - acc: 0.7337 - val_loss: 0.5389 - val_acc: 0.7314\n",
      "Epoch 45/1000\n",
      " - 4s - loss: 0.5197 - acc: 0.7326 - val_loss: 0.5337 - val_acc: 0.7275\n",
      "Epoch 46/1000\n",
      " - 4s - loss: 0.5174 - acc: 0.7341 - val_loss: 0.5340 - val_acc: 0.7263\n",
      "Epoch 47/1000\n",
      " - 4s - loss: 0.5167 - acc: 0.7369 - val_loss: 0.5389 - val_acc: 0.7238\n",
      "Epoch 48/1000\n",
      " - 4s - loss: 0.5178 - acc: 0.7373 - val_loss: 0.5395 - val_acc: 0.7250\n",
      "Epoch 49/1000\n",
      " - 4s - loss: 0.5160 - acc: 0.7366 - val_loss: 0.5335 - val_acc: 0.7285\n",
      "Epoch 50/1000\n",
      " - 4s - loss: 0.5157 - acc: 0.7369 - val_loss: 0.5391 - val_acc: 0.7222\n",
      "Epoch 51/1000\n",
      " - 4s - loss: 0.5157 - acc: 0.7362 - val_loss: 0.5340 - val_acc: 0.7267\n",
      "Epoch 52/1000\n",
      " - 4s - loss: 0.5145 - acc: 0.7371 - val_loss: 0.5327 - val_acc: 0.7291\n",
      "Epoch 53/1000\n",
      " - 5s - loss: 0.5130 - acc: 0.7397 - val_loss: 0.5347 - val_acc: 0.7265\n",
      "Epoch 54/1000\n",
      " - 5s - loss: 0.5110 - acc: 0.7367 - val_loss: 0.5375 - val_acc: 0.7246\n",
      "Epoch 55/1000\n",
      " - 4s - loss: 0.5110 - acc: 0.7401 - val_loss: 0.5349 - val_acc: 0.7223\n",
      "Epoch 56/1000\n",
      " - 4s - loss: 0.5098 - acc: 0.7392 - val_loss: 0.5330 - val_acc: 0.7279\n",
      "Epoch 57/1000\n",
      " - 4s - loss: 0.5088 - acc: 0.7420 - val_loss: 0.5355 - val_acc: 0.7248\n",
      "Epoch 58/1000\n",
      " - 4s - loss: 0.5069 - acc: 0.7411 - val_loss: 0.5399 - val_acc: 0.7266\n",
      "Epoch 59/1000\n",
      " - 4s - loss: 0.5065 - acc: 0.7388 - val_loss: 0.5336 - val_acc: 0.7285\n",
      "Epoch 60/1000\n",
      " - 4s - loss: 0.5066 - acc: 0.7401 - val_loss: 0.5350 - val_acc: 0.7286\n",
      "Epoch 61/1000\n",
      " - 4s - loss: 0.5050 - acc: 0.7428 - val_loss: 0.5371 - val_acc: 0.7261\n",
      "Epoch 62/1000\n",
      " - 4s - loss: 0.5039 - acc: 0.7439 - val_loss: 0.5340 - val_acc: 0.7283\n",
      "Epoch 63/1000\n",
      " - 4s - loss: 0.5043 - acc: 0.7429 - val_loss: 0.5346 - val_acc: 0.7313\n",
      "Epoch 64/1000\n",
      " - 4s - loss: 0.5013 - acc: 0.7435 - val_loss: 0.5369 - val_acc: 0.7257\n",
      "Epoch 65/1000\n",
      " - 4s - loss: 0.5009 - acc: 0.7486 - val_loss: 0.5343 - val_acc: 0.7304\n",
      "Epoch 66/1000\n",
      " - 4s - loss: 0.4992 - acc: 0.7509 - val_loss: 0.5405 - val_acc: 0.7231\n",
      "Epoch 67/1000\n",
      " - 4s - loss: 0.4991 - acc: 0.7474 - val_loss: 0.5420 - val_acc: 0.7258\n",
      "Epoch 68/1000\n",
      " - 4s - loss: 0.4999 - acc: 0.7480 - val_loss: 0.5388 - val_acc: 0.7286\n",
      "Epoch 69/1000\n",
      " - 4s - loss: 0.4971 - acc: 0.7497 - val_loss: 0.5399 - val_acc: 0.7276\n",
      "Epoch 70/1000\n",
      " - 4s - loss: 0.4966 - acc: 0.7494 - val_loss: 0.5363 - val_acc: 0.7298\n",
      "Epoch 71/1000\n",
      " - 4s - loss: 0.4943 - acc: 0.7515 - val_loss: 0.5372 - val_acc: 0.7290\n",
      "Epoch 72/1000\n",
      " - 4s - loss: 0.4957 - acc: 0.7503 - val_loss: 0.5342 - val_acc: 0.7289\n",
      "Epoch 73/1000\n",
      " - 4s - loss: 0.4933 - acc: 0.7524 - val_loss: 0.5411 - val_acc: 0.7294\n",
      "Epoch 74/1000\n",
      " - 4s - loss: 0.4935 - acc: 0.7516 - val_loss: 0.5381 - val_acc: 0.7264\n",
      "Epoch 75/1000\n",
      " - 4s - loss: 0.4926 - acc: 0.7535 - val_loss: 0.5452 - val_acc: 0.7291\n",
      "Epoch 76/1000\n",
      " - 4s - loss: 0.4900 - acc: 0.7519 - val_loss: 0.5415 - val_acc: 0.7258\n",
      "Epoch 77/1000\n",
      " - 5s - loss: 0.4885 - acc: 0.7551 - val_loss: 0.5415 - val_acc: 0.7279\n",
      "Epoch 78/1000\n",
      " - 4s - loss: 0.4900 - acc: 0.7541 - val_loss: 0.5428 - val_acc: 0.7289\n",
      "Epoch 79/1000\n",
      " - 4s - loss: 0.4871 - acc: 0.7528 - val_loss: 0.5426 - val_acc: 0.7293\n",
      "Epoch 80/1000\n",
      " - 4s - loss: 0.4882 - acc: 0.7550 - val_loss: 0.5465 - val_acc: 0.7260\n",
      "Epoch 81/1000\n",
      " - 4s - loss: 0.4853 - acc: 0.7567 - val_loss: 0.5482 - val_acc: 0.7275\n",
      "Epoch 82/1000\n",
      " - 4s - loss: 0.4854 - acc: 0.7558 - val_loss: 0.5417 - val_acc: 0.7321\n",
      "Epoch 83/1000\n",
      " - 4s - loss: 0.4849 - acc: 0.7566 - val_loss: 0.5541 - val_acc: 0.7255\n",
      "Epoch 84/1000\n",
      " - 4s - loss: 0.4837 - acc: 0.7549 - val_loss: 0.5428 - val_acc: 0.7299\n",
      "Epoch 85/1000\n",
      " - 4s - loss: 0.4836 - acc: 0.7578 - val_loss: 0.5417 - val_acc: 0.7318\n",
      "Epoch 86/1000\n",
      " - 4s - loss: 0.4800 - acc: 0.7574 - val_loss: 0.5482 - val_acc: 0.7326\n",
      "Epoch 87/1000\n",
      " - 4s - loss: 0.4792 - acc: 0.7604 - val_loss: 0.5446 - val_acc: 0.7280\n",
      "Epoch 88/1000\n",
      " - 4s - loss: 0.4783 - acc: 0.7608 - val_loss: 0.5502 - val_acc: 0.7298\n",
      "Epoch 89/1000\n",
      " - 4s - loss: 0.4786 - acc: 0.7593 - val_loss: 0.5534 - val_acc: 0.7266\n",
      "Epoch 90/1000\n",
      " - 4s - loss: 0.4777 - acc: 0.7610 - val_loss: 0.5454 - val_acc: 0.7283\n",
      "Epoch 91/1000\n",
      " - 4s - loss: 0.4749 - acc: 0.7614 - val_loss: 0.5471 - val_acc: 0.7279\n",
      "Epoch 92/1000\n",
      " - 4s - loss: 0.4758 - acc: 0.7618 - val_loss: 0.5479 - val_acc: 0.7236\n",
      "Epoch 93/1000\n",
      " - 4s - loss: 0.4760 - acc: 0.7621 - val_loss: 0.5460 - val_acc: 0.7251\n",
      "Epoch 94/1000\n",
      " - 4s - loss: 0.4740 - acc: 0.7625 - val_loss: 0.5465 - val_acc: 0.7261\n",
      "Epoch 95/1000\n",
      " - 4s - loss: 0.4730 - acc: 0.7644 - val_loss: 0.5474 - val_acc: 0.7305\n"
     ]
    },
    {
     "name": "stdout",
     "output_type": "stream",
     "text": [
      "Epoch 96/1000\n",
      " - 4s - loss: 0.4704 - acc: 0.7659 - val_loss: 0.5468 - val_acc: 0.7301\n",
      "Epoch 97/1000\n",
      " - 4s - loss: 0.4734 - acc: 0.7637 - val_loss: 0.5548 - val_acc: 0.7301\n",
      "Epoch 98/1000\n",
      " - 4s - loss: 0.4706 - acc: 0.7617 - val_loss: 0.5511 - val_acc: 0.7254\n",
      "Epoch 99/1000\n",
      " - 4s - loss: 0.4676 - acc: 0.7671 - val_loss: 0.5563 - val_acc: 0.7237\n",
      "Epoch 100/1000\n",
      " - 4s - loss: 0.4663 - acc: 0.7682 - val_loss: 0.5498 - val_acc: 0.7262\n",
      "Epoch 101/1000\n",
      " - 4s - loss: 0.4633 - acc: 0.7696 - val_loss: 0.5616 - val_acc: 0.7249\n",
      "Epoch 102/1000\n",
      " - 5s - loss: 0.4637 - acc: 0.7692 - val_loss: 0.5587 - val_acc: 0.7281\n"
     ]
    }
   ],
   "source": [
    "checkpoint = ModelCheckpoint('model/churn_rnn_group1_1.hdf5', save_best_only = True)\n",
    "earlystopping = EarlyStopping(patience = 50)\n",
    "\n",
    "history1 = model1.fit(xtrain, ytrain, validation_data = (xval, yval),\n",
    "                      epochs = 1000, batch_size = 128, \n",
    "                      callbacks = [checkpoint, earlystopping], verbose = 2)"
   ]
  },
  {
   "cell_type": "code",
   "execution_count": 32,
   "metadata": {},
   "outputs": [],
   "source": [
    "def history_plot(history):\n",
    "    loss = history.history['loss']\n",
    "    val_loss = history.history['val_loss']\n",
    "    acc = history.history['acc']\n",
    "    val_acc = history.history['val_acc']\n",
    "    \n",
    "    epochs = range(1, len(loss) + 1)\n",
    "    \n",
    "    minim = np.argmin(val_loss)\n",
    "    plt.plot(epochs, loss, 'k', label = 'Training')\n",
    "    plt.plot(epochs, val_loss, 'r', label = 'Valdiation')\n",
    "    plt.axvline(minim, color = 'gray', linestyle = ':')\n",
    "    plt.legend()\n",
    "    plt.title('Loss (Cross Entropy)')\n",
    "    plt.show()\n",
    "    \n",
    "    plt.plot(epochs, acc, 'k', label = 'Training')\n",
    "    plt.plot(epochs, val_acc, 'r', label = 'Valdiation')\n",
    "    plt.axvline(minim, color = 'gray', linestyle = ':')\n",
    "    plt.legend()\n",
    "    plt.title('Accuracy')\n",
    "    plt.show()"
   ]
  },
  {
   "cell_type": "code",
   "execution_count": 33,
   "metadata": {},
   "outputs": [
    {
     "data": {
      "image/png": "[encoded data removed]",
      "text/plain": [
       "<Figure size 432x288 with 1 Axes>"
      ]
     },
     "metadata": {
      "needs_background": "light"
     },
     "output_type": "display_data"
    },
    {
     "data": {
      "image/png": "[encoded data removed]",
      "text/plain": [
       "<Figure size 432x288 with 1 Axes>"
      ]
     },
     "metadata": {
      "needs_background": "light"
     },
     "output_type": "display_data"
    }
   ],
   "source": [
    "history_plot(history1)"
   ]
  },
  {
   "cell_type": "code",
   "execution_count": null,
   "metadata": {},
   "outputs": [],
   "source": []
  },
  {
   "cell_type": "markdown",
   "metadata": {},
   "source": [
    "### 모델 평가"
   ]
  },
  {
   "cell_type": "code",
   "execution_count": 18,
   "metadata": {},
   "outputs": [],
   "source": [
    "best1 = load_model('model/churn_rnn_group1_1.hdf5')"
   ]
  },
  {
   "cell_type": "code",
   "execution_count": 40,
   "metadata": {},
   "outputs": [],
   "source": [
    "pred1 = best1.predict(xval)\n",
    "pred1 = pred1.reshape(len(pred1))"
   ]
  },
  {
   "cell_type": "code",
   "execution_count": 41,
   "metadata": {},
   "outputs": [],
   "source": [
    "prob_seq = np.arange(0, 1, step = 0.05)"
   ]
  },
  {
   "cell_type": "code",
   "execution_count": 42,
   "metadata": {},
   "outputs": [],
   "source": [
    "def ischurn(pred, prob):\n",
    "    churn = np.array([1 if pred[i] > prob else 0 for i in range(len(pred))])\n",
    "    return churn "
   ]
  },
  {
   "cell_type": "code",
   "execution_count": 43,
   "metadata": {},
   "outputs": [],
   "source": [
    "from sklearn.metrics import confusion_matrix, f1_score"
   ]
  },
  {
   "cell_type": "code",
   "execution_count": 44,
   "metadata": {},
   "outputs": [],
   "source": [
    "def f1score(pred, true, prob_seq):\n",
    "    error = []\n",
    "    for p in prob_seq:\n",
    "        c = ischurn(pred, p)\n",
    "        e = f1_score(true, c)\n",
    "        error.append(e)\n",
    "    return np.array(error)"
   ]
  },
  {
   "cell_type": "code",
   "execution_count": 45,
   "metadata": {},
   "outputs": [],
   "source": [
    "score1 = f1score(pred1, yval, prob_seq)"
   ]
  },
  {
   "cell_type": "code",
   "execution_count": 46,
   "metadata": {},
   "outputs": [
    {
     "data": {
      "image/png": "[encoded data removed]",
      "text/plain": [
       "<Figure size 432x288 with 1 Axes>"
      ]
     },
     "metadata": {
      "needs_background": "light"
     },
     "output_type": "display_data"
    }
   ],
   "source": [
    "max_score1 = np.round(np.max(score1)*100, 2)\n",
    "prob_best1 = np.round(prob_seq[np.argmax(score1)], 2)\n",
    "\n",
    "plt.plot(prob_seq, score1, c = 'darkblue')\n",
    "plt.axvline(prob_best1, color = 'gray', linestyle = ':')\n",
    "plt.xlim(0.1, 0.9)\n",
    "plt.title('F-1 Score = {} \\n maximized at p = {}'.format(max_score1, prob_best1))\n",
    "plt.show()"
   ]
  },
  {
   "cell_type": "code",
   "execution_count": 47,
   "metadata": {},
   "outputs": [],
   "source": [
    "pred1 = best1.predict(xtest)\n",
    "pred_churn1 = np.array([1 if p > 0.35 else 0 for p in pred1])"
   ]
  },
  {
   "cell_type": "code",
   "execution_count": 48,
   "metadata": {},
   "outputs": [
    {
     "name": "stdout",
     "output_type": "stream",
     "text": [
      "[[2485  484]\n",
      " [1660 2420]]\n"
     ]
    }
   ],
   "source": [
    "print(confusion_matrix(pred_churn1, ytest))"
   ]
  },
  {
   "cell_type": "code",
   "execution_count": 49,
   "metadata": {},
   "outputs": [
    {
     "data": {
      "text/plain": [
       "0.6958433820400056"
      ]
     },
     "execution_count": 49,
     "metadata": {},
     "output_type": "execute_result"
    }
   ],
   "source": [
    "# Error Rate\n",
    "np.mean(pred_churn1 == ytest)"
   ]
  },
  {
   "cell_type": "code",
   "execution_count": null,
   "metadata": {},
   "outputs": [],
   "source": []
  },
  {
   "cell_type": "code",
   "execution_count": null,
   "metadata": {},
   "outputs": [],
   "source": []
  }
 ],
 "metadata": {
  "kernelspec": {
   "display_name": "Python 3",
   "language": "python",
   "name": "python3"
  },
  "language_info": {
   "codemirror_mode": {
    "name": "ipython",
    "version": 3
   },
   "file_extension": ".py",
   "mimetype": "text/x-python",
   "name": "python",
   "nbconvert_exporter": "python",
   "pygments_lexer": "ipython3",
   "version": "3.6.7"
  }
 },
 "nbformat": 4,
 "nbformat_minor": 2
}
